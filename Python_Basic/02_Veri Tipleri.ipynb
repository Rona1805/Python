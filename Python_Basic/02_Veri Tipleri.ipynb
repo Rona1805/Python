{
 "cells": [
  {
   "cell_type": "markdown",
   "id": "03f05cc7-047c-423f-b834-ed3e2be624f3",
   "metadata": {
    "tags": []
   },
   "source": [
    "### **Veri Tipleri**"
   ]
  },
  {
   "cell_type": "raw",
   "id": "7c26b6bd-06f0-47ac-acb1-141a8cbda00b",
   "metadata": {},
   "source": [
    "######################################################################\n",
    "###     Tip     ###   Kısaltma  ###             Örnek              ###\n",
    "### ---------------------------------------------------------------###\n",
    "###   Integer   ###    int      ###              3, 10             ###\n",
    "###   Float     ###    float    ###             1.5, 7.0           ###\n",
    "###   String    ###    str      ###            \"Mrhb\", '2'         ###\n",
    "###   Boolean   ###    bool     ###            True, False         ###\n",
    "###   List      ###    list     ###         [1,2,True,'a',1]       ###\n",
    "###   Set       ###    set      ###            {1,2,True}          ### \n",
    "###  Dictionary ###    dict     ### {\"isim\": \"İbrahim\", \"yas\": 25} ###\n",
    "###   Tuple     ###    tuple    ###           (1,2,True)           ### \n",
    "######################################################################"
   ]
  },
  {
   "cell_type": "markdown",
   "id": "09d4f7ac-fd60-44d2-993a-6c14760dbbe7",
   "metadata": {
    "tags": []
   },
   "source": [
    "#### **type() metodu**"
   ]
  },
  {
   "cell_type": "code",
   "execution_count": 1,
   "id": "6aa643b3-613b-4cc9-8836-8efb212f44bb",
   "metadata": {},
   "outputs": [
    {
     "name": "stdout",
     "output_type": "stream",
     "text": [
      "<class 'int'>\n",
      "<class 'float'>\n",
      "<class 'str'>\n",
      "<class 'bool'>\n",
      "<class 'list'>\n",
      "<class 'set'>\n",
      "<class 'dict'>\n",
      "<class 'tuple'>\n"
     ]
    }
   ],
   "source": [
    "print(type(5))\n",
    "print(type(1.5))\n",
    "print(type(\"Merhaba\"))\n",
    "print(type(True))\n",
    "print(type([1,2,True,\"a\",1]))\n",
    "print(type({1,2,False}))\n",
    "print(type({\"isim\": \"İbrahim\", \"yaş\": 25}))\n",
    "print(type((1,2,True)))"
   ]
  },
  {
   "cell_type": "markdown",
   "id": "3672f8c5-29f8-4b6d-8f9c-13fbc896c96f",
   "metadata": {
    "tags": []
   },
   "source": [
    "#### **Sayılar**\n",
    "* **int:** Tam Sayılar\n",
    "* **float:** Ondalıklı Sayılar"
   ]
  },
  {
   "cell_type": "markdown",
   "id": "1c343bfc-2648-442d-b986-9ba3e2aef410",
   "metadata": {
    "tags": []
   },
   "source": [
    "#### **Sayı Kümesi**"
   ]
  },
  {
   "attachments": {
    "2b042414-145d-474d-a268-61d5cb3f0408.jpg": {
     "image/jpeg": "[encoded data removed]"
    }
   },
   "cell_type": "markdown",
   "id": "23a81e0e-b5eb-4a39-81b6-d489a2340a78",
   "metadata": {},
   "source": [
    "![download.jpg](attachment:2b042414-145d-474d-a268-61d5cb3f0408.jpg)"
   ]
  },
  {
   "cell_type": "markdown",
   "id": "778f0795-6e6a-4e58-87c3-d50896ade2b2",
   "metadata": {},
   "source": [
    "#### **Aritmetik Opersayonlar**"
   ]
  },
  {
   "cell_type": "raw",
   "id": "54f9fafa-2d17-4c2d-84b2-274bd9b671b9",
   "metadata": {},
   "source": [
    "#########################################################\n",
    "###     Operatörler   ###  İşaretler  ###    Örnek    ###\n",
    "### --------------------------------------------------###\n",
    "###       Toplama     ###      +      ###     a+b     ###\n",
    "###       Çıkarma     ###      -      ###     a-b     ###\n",
    "###       Bölme       ###      /      ###     a/b     ###\n",
    "###      Tam Bölme    ###     //      ###     a//b    ###\n",
    "###       Çarpma      ###      *      ###     a*b     ###\n",
    "###      Üs Alma      ###     **      ###     a**b    ### \n",
    "###      Mod Alma     ###      %      ###     a%b     ### \n",
    "#########################################################"
   ]
  },
  {
   "cell_type": "code",
   "execution_count": 2,
   "id": "a2b58104-19b3-4ac4-91af-97d989856963",
   "metadata": {},
   "outputs": [
    {
     "data": {
      "text/plain": [
       "7"
      ]
     },
     "execution_count": 2,
     "metadata": {},
     "output_type": "execute_result"
    }
   ],
   "source": [
    "3+4"
   ]
  },
  {
   "cell_type": "code",
   "execution_count": 3,
   "id": "ba9d1575-3514-4b1b-b65a-496ec8d6af7a",
   "metadata": {},
   "outputs": [
    {
     "data": {
      "text/plain": [
       "12"
      ]
     },
     "execution_count": 3,
     "metadata": {},
     "output_type": "execute_result"
    }
   ],
   "source": [
    "3*4"
   ]
  },
  {
   "cell_type": "code",
   "execution_count": 4,
   "id": "90be80b7-7388-472d-b1b1-320649c86cea",
   "metadata": {},
   "outputs": [
    {
     "data": {
      "text/plain": [
       "8"
      ]
     },
     "execution_count": 4,
     "metadata": {},
     "output_type": "execute_result"
    }
   ],
   "source": [
    "2**3"
   ]
  },
  {
   "cell_type": "code",
   "execution_count": 5,
   "id": "fb2811b8-d2a5-4f2f-bbbb-bea412e59d0d",
   "metadata": {},
   "outputs": [
    {
     "data": {
      "text/plain": [
       "8"
      ]
     },
     "execution_count": 5,
     "metadata": {},
     "output_type": "execute_result"
    }
   ],
   "source": [
    "3*4\n",
    "3+5"
   ]
  },
  {
   "cell_type": "code",
   "execution_count": 6,
   "id": "031d83c3-0ef5-440e-80af-597a19e0dbac",
   "metadata": {},
   "outputs": [
    {
     "name": "stdout",
     "output_type": "stream",
     "text": [
      "12\n",
      "8\n"
     ]
    }
   ],
   "source": [
    "print(3*4)\n",
    "print(3+5)"
   ]
  },
  {
   "cell_type": "code",
   "execution_count": 7,
   "id": "48a5c978-1613-4a5d-ab11-583eb525d036",
   "metadata": {},
   "outputs": [
    {
     "data": {
      "text/plain": [
       "13"
      ]
     },
     "execution_count": 7,
     "metadata": {},
     "output_type": "execute_result"
    }
   ],
   "source": [
    "3+2*5"
   ]
  },
  {
   "cell_type": "code",
   "execution_count": 8,
   "id": "296ba878-2fe2-4b7b-9bf7-0ebcd382bb7c",
   "metadata": {},
   "outputs": [
    {
     "data": {
      "text/plain": [
       "52"
      ]
     },
     "execution_count": 8,
     "metadata": {},
     "output_type": "execute_result"
    }
   ],
   "source": [
    "2+(3+(2+5))*5"
   ]
  },
  {
   "cell_type": "code",
   "execution_count": 9,
   "id": "3c0b4a8a-fdb3-4e8a-b183-7bf92a88296b",
   "metadata": {},
   "outputs": [
    {
     "data": {
      "text/plain": [
       "6.2"
      ]
     },
     "execution_count": 9,
     "metadata": {},
     "output_type": "execute_result"
    }
   ],
   "source": [
    "3.1 * 2.0"
   ]
  },
  {
   "cell_type": "code",
   "execution_count": 10,
   "id": "be65af69-76ce-49f9-ace7-ebcd9ea76977",
   "metadata": {},
   "outputs": [
    {
     "data": {
      "text/plain": [
       "15.5"
      ]
     },
     "execution_count": 10,
     "metadata": {},
     "output_type": "execute_result"
    }
   ],
   "source": [
    "3.1 * 5"
   ]
  },
  {
   "cell_type": "markdown",
   "id": "00bcf371-efbc-4689-9724-ae991bd0dec3",
   "metadata": {
    "tags": []
   },
   "source": [
    "#### **Yazılar**\n",
    "       P |  Y |  T |  H |  O |  N \n",
    "      ____________________________\n",
    "       0 |  1 |  2 |  3 |  4 |  5 \n",
    "       0 | -5 | -4 | -3 | -4 | -1 \n",
    "  "
   ]
  },
  {
   "cell_type": "code",
   "execution_count": 11,
   "id": "855fd718-c127-4113-a335-36702e96f285",
   "metadata": {},
   "outputs": [
    {
     "name": "stdout",
     "output_type": "stream",
     "text": [
      "Python\n"
     ]
    }
   ],
   "source": [
    "strvar = \"Python\"\n",
    "print(strvar)"
   ]
  },
  {
   "cell_type": "code",
   "execution_count": 12,
   "id": "4ccb52d6-8661-4807-80eb-d53a344f3831",
   "metadata": {},
   "outputs": [
    {
     "data": {
      "text/plain": [
       "'P'"
      ]
     },
     "execution_count": 12,
     "metadata": {},
     "output_type": "execute_result"
    }
   ],
   "source": [
    "strvar[0]"
   ]
  },
  {
   "cell_type": "code",
   "execution_count": 13,
   "id": "a0bfa72f-4615-49bf-ba7e-d8cdbfc11306",
   "metadata": {},
   "outputs": [
    {
     "data": {
      "text/plain": [
       "'h'"
      ]
     },
     "execution_count": 13,
     "metadata": {},
     "output_type": "execute_result"
    }
   ],
   "source": [
    "strvar[-3]"
   ]
  },
  {
   "cell_type": "code",
   "execution_count": 14,
   "id": "13c06e53-f901-45ef-b2f3-385469e9aacc",
   "metadata": {},
   "outputs": [
    {
     "data": {
      "text/plain": [
       "'thon'"
      ]
     },
     "execution_count": 14,
     "metadata": {},
     "output_type": "execute_result"
    }
   ],
   "source": [
    "strvar[2:]"
   ]
  },
  {
   "cell_type": "code",
   "execution_count": 15,
   "id": "916383bb-e1ee-439e-84ad-93db03be7149",
   "metadata": {},
   "outputs": [
    {
     "data": {
      "text/plain": [
       "'thon'"
      ]
     },
     "execution_count": 15,
     "metadata": {},
     "output_type": "execute_result"
    }
   ],
   "source": [
    "strvar[-4:]"
   ]
  },
  {
   "cell_type": "code",
   "execution_count": 16,
   "id": "d007730c-b9bc-4260-916b-e0e85aa808e3",
   "metadata": {},
   "outputs": [
    {
     "data": {
      "text/plain": [
       "'tho'"
      ]
     },
     "execution_count": 16,
     "metadata": {},
     "output_type": "execute_result"
    }
   ],
   "source": [
    "strvar[2:5]"
   ]
  },
  {
   "cell_type": "code",
   "execution_count": 17,
   "id": "6eba6efc-5dd9-40e4-996b-cb7c672f5d13",
   "metadata": {},
   "outputs": [
    {
     "data": {
      "text/plain": [
       "'Python'"
      ]
     },
     "execution_count": 17,
     "metadata": {},
     "output_type": "execute_result"
    }
   ],
   "source": [
    "strvar[:]"
   ]
  },
  {
   "cell_type": "code",
   "execution_count": 18,
   "id": "60f08de8-2df2-4993-988a-20c263a18e74",
   "metadata": {},
   "outputs": [
    {
     "data": {
      "text/plain": [
       "'Pto'"
      ]
     },
     "execution_count": 18,
     "metadata": {},
     "output_type": "execute_result"
    }
   ],
   "source": [
    "strvar[::2]"
   ]
  },
  {
   "cell_type": "code",
   "execution_count": 19,
   "id": "19e16d6c-555d-4bee-a4dc-6856e552b4bf",
   "metadata": {},
   "outputs": [
    {
     "data": {
      "text/plain": [
       "'yo'"
      ]
     },
     "execution_count": 19,
     "metadata": {},
     "output_type": "execute_result"
    }
   ],
   "source": [
    "strvar[1:5:3]"
   ]
  },
  {
   "cell_type": "raw",
   "id": "7d5cf1aa-0c63-4ebd-af72-91db86a2010b",
   "metadata": {},
   "source": [
    "[] # tek bir eleman alınır.\n",
    "[:] ## başlangıç ve bitiş arasındaki elemanlar alınır.\n",
    "[::] ### başlangıç ve bitiş arasındaki elemanlar üçüncü kısımdaki değere göre atlayarak değerler alınır."
   ]
  },
  {
   "cell_type": "code",
   "execution_count": 20,
   "id": "d7a61e9d-edba-4884-9b88-bd9f82567523",
   "metadata": {},
   "outputs": [
    {
     "data": {
      "text/plain": [
       "6"
      ]
     },
     "execution_count": 20,
     "metadata": {},
     "output_type": "execute_result"
    }
   ],
   "source": [
    "len(strvar)"
   ]
  },
  {
   "cell_type": "code",
   "execution_count": 21,
   "id": "d762c5a7-88d8-4788-bd92-388ea1958725",
   "metadata": {},
   "outputs": [
    {
     "data": {
      "text/plain": [
       "'Python öğreniyorum.'"
      ]
     },
     "execution_count": 21,
     "metadata": {},
     "output_type": "execute_result"
    }
   ],
   "source": [
    "strvar + \" öğreniyorum.\""
   ]
  },
  {
   "cell_type": "code",
   "execution_count": 22,
   "id": "e721aaea-0cf2-4dd3-a9b2-09a170ea6f37",
   "metadata": {},
   "outputs": [
    {
     "data": {
      "text/plain": [
       "'Python öğreniyorum.'"
      ]
     },
     "execution_count": 22,
     "metadata": {},
     "output_type": "execute_result"
    }
   ],
   "source": [
    "strvar = strvar + \" öğreniyorum.\"\n",
    "strvar"
   ]
  },
  {
   "cell_type": "code",
   "execution_count": 23,
   "id": "7abd582a-8cfe-4ad8-ba3e-dde9a6086768",
   "metadata": {},
   "outputs": [
    {
     "data": {
      "text/plain": [
       "'Python öğreniyorum.Python öğreniyorum.Python öğreniyorum.Python öğreniyorum.Python öğreniyorum.'"
      ]
     },
     "execution_count": 23,
     "metadata": {},
     "output_type": "execute_result"
    }
   ],
   "source": [
    "strvar*5"
   ]
  },
  {
   "cell_type": "markdown",
   "id": "ec9ff207-677a-4bc7-ba38-9641af37cb3d",
   "metadata": {
    "tags": []
   },
   "source": [
    "#### **String Fonksiyonları**"
   ]
  },
  {
   "cell_type": "code",
   "execution_count": 24,
   "id": "64a15bb4-5072-44ed-91ab-db5a92f6ad63",
   "metadata": {},
   "outputs": [
    {
     "data": {
      "text/plain": [
       "'Python öğreniyorum.'"
      ]
     },
     "execution_count": 24,
     "metadata": {},
     "output_type": "execute_result"
    }
   ],
   "source": [
    "yazi = \"Python öğreniyorum.\"\n",
    "yazi"
   ]
  },
  {
   "cell_type": "code",
   "execution_count": 25,
   "id": "b772b4ef-5ede-4c6c-9857-3df82d653199",
   "metadata": {},
   "outputs": [
    {
     "data": {
      "text/plain": [
       "<function str.upper()>"
      ]
     },
     "execution_count": 25,
     "metadata": {},
     "output_type": "execute_result"
    }
   ],
   "source": [
    "yazi.upper"
   ]
  },
  {
   "cell_type": "code",
   "execution_count": 26,
   "id": "84d893a9-10b6-4147-8657-2b7e34280e5c",
   "metadata": {},
   "outputs": [
    {
     "name": "stdout",
     "output_type": "stream",
     "text": [
      "PYTHON ÖĞRENIYORUM.\n",
      "python öğreniyorum.\n",
      "['Python', 'öğreniyorum.']\n",
      "['Pyth', 'n öğreniy', 'rum.']\n",
      "['Pyth', 'n öğreniyorum.']\n"
     ]
    }
   ],
   "source": [
    "print(yazi.upper())\n",
    "print(yazi.lower())\n",
    "print(yazi.split())\n",
    "print(yazi.split(\"o\"))\n",
    "print(yazi.split(sep=\"o\", maxsplit=1))"
   ]
  },
  {
   "cell_type": "markdown",
   "id": "b531fb06-c732-4a62-a86d-4a465dead743",
   "metadata": {},
   "source": [
    "### **Boolean**"
   ]
  },
  {
   "cell_type": "code",
   "execution_count": 27,
   "id": "5e2a5335-a86d-45b9-bf34-d1cfe13a2f94",
   "metadata": {},
   "outputs": [
    {
     "name": "stdout",
     "output_type": "stream",
     "text": [
      "True\n",
      "False\n"
     ]
    }
   ],
   "source": [
    "a = True\n",
    "b = False\n",
    "print(a)\n",
    "print(b)"
   ]
  },
  {
   "cell_type": "code",
   "execution_count": 28,
   "id": "20f0e15c-060f-4d99-89a5-2f1a9dd775e2",
   "metadata": {},
   "outputs": [
    {
     "data": {
      "text/plain": [
       "False"
      ]
     },
     "execution_count": 28,
     "metadata": {},
     "output_type": "execute_result"
    }
   ],
   "source": [
    "3>5"
   ]
  },
  {
   "cell_type": "code",
   "execution_count": 29,
   "id": "86348444-1b4f-4113-9d13-2e1d31641a7e",
   "metadata": {},
   "outputs": [
    {
     "data": {
      "text/plain": [
       "True"
      ]
     },
     "execution_count": 29,
     "metadata": {},
     "output_type": "execute_result"
    }
   ],
   "source": [
    "3==3"
   ]
  },
  {
   "cell_type": "code",
   "execution_count": 30,
   "id": "3ef32f7e-4365-4ca0-a8df-7ec77c730aef",
   "metadata": {},
   "outputs": [
    {
     "name": "stdout",
     "output_type": "stream",
     "text": [
      "False\n"
     ]
    }
   ],
   "source": [
    "yas1 = 25\n",
    "yas2 = 18\n",
    "print(yas2 > 18)"
   ]
  },
  {
   "cell_type": "code",
   "execution_count": 31,
   "id": "162037c2-3816-4934-83e0-3ac3b2ad3386",
   "metadata": {},
   "outputs": [
    {
     "data": {
      "text/plain": [
       "False"
      ]
     },
     "execution_count": 31,
     "metadata": {},
     "output_type": "execute_result"
    }
   ],
   "source": [
    "yas2 <18"
   ]
  },
  {
   "cell_type": "code",
   "execution_count": 32,
   "id": "03131bab-b24e-45f4-852e-71a896465c02",
   "metadata": {},
   "outputs": [
    {
     "data": {
      "text/plain": [
       "True"
      ]
     },
     "execution_count": 32,
     "metadata": {},
     "output_type": "execute_result"
    }
   ],
   "source": [
    "yas2 == 18"
   ]
  },
  {
   "cell_type": "code",
   "execution_count": 33,
   "id": "c4598a85-bc1a-4e2e-b4dc-70e98c3be256",
   "metadata": {},
   "outputs": [
    {
     "data": {
      "text/plain": [
       "False"
      ]
     },
     "execution_count": 33,
     "metadata": {},
     "output_type": "execute_result"
    }
   ],
   "source": [
    "yas2 != 18"
   ]
  },
  {
   "cell_type": "code",
   "execution_count": 34,
   "id": "53bc71fe-1d6a-4545-8a88-cea39b5aaad3",
   "metadata": {},
   "outputs": [
    {
     "data": {
      "text/plain": [
       "True"
      ]
     },
     "execution_count": 34,
     "metadata": {},
     "output_type": "execute_result"
    }
   ],
   "source": [
    "not yas2 > 18"
   ]
  },
  {
   "cell_type": "code",
   "execution_count": 35,
   "id": "a3592b68-bf2d-4bc7-9a0e-a42cdf3fe62d",
   "metadata": {},
   "outputs": [
    {
     "data": {
      "text/plain": [
       "True"
      ]
     },
     "execution_count": 35,
     "metadata": {},
     "output_type": "execute_result"
    }
   ],
   "source": [
    "not yas2 < 18"
   ]
  },
  {
   "cell_type": "code",
   "execution_count": 36,
   "id": "1c2752f6-aff7-454f-820e-5d1cd1d56b4b",
   "metadata": {},
   "outputs": [
    {
     "data": {
      "text/plain": [
       "False"
      ]
     },
     "execution_count": 36,
     "metadata": {},
     "output_type": "execute_result"
    }
   ],
   "source": [
    "not yas2 == 18"
   ]
  },
  {
   "cell_type": "markdown",
   "id": "37266399-b3af-4336-b738-982637ec91db",
   "metadata": {},
   "source": [
    "#### **list & set**\n",
    "      [a ,  b ,  c ,  d ,  e ,  a]\n",
    "      {a ,  b ,  c ,  d ,  e ,  f}\n",
    "      ____________________________\n",
    "       0 |  1 |  2 |  3 |  4 |  5 \n",
    "       0 | -5 | -4 | -3 | -4 | -1 \n",
    "  "
   ]
  },
  {
   "cell_type": "code",
   "execution_count": 37,
   "id": "9b7ddab3-aeec-4d2f-84c4-b72dbefd0080",
   "metadata": {},
   "outputs": [
    {
     "name": "stdout",
     "output_type": "stream",
     "text": [
      "['a', 'b', 'c', 'd', 'e', 'a']\n"
     ]
    }
   ],
   "source": [
    "liste = [\"a\", \"b\", \"c\", \"d\", \"e\", \"a\"]\n",
    "print(liste)"
   ]
  },
  {
   "cell_type": "code",
   "execution_count": 38,
   "id": "a18ed1c7-04cf-465c-8b1f-a9ccca1e0000",
   "metadata": {},
   "outputs": [
    {
     "data": {
      "text/plain": [
       "['a', 'b', 'c', 'd', 'e', 'a', 'f']"
      ]
     },
     "execution_count": 38,
     "metadata": {},
     "output_type": "execute_result"
    }
   ],
   "source": [
    "liste = liste + [\"f\"]\n",
    "liste"
   ]
  },
  {
   "cell_type": "code",
   "execution_count": 39,
   "id": "c63602a3-3412-453c-ab43-b87a7407eb4b",
   "metadata": {},
   "outputs": [
    {
     "data": {
      "text/plain": [
       "'a'"
      ]
     },
     "execution_count": 39,
     "metadata": {},
     "output_type": "execute_result"
    }
   ],
   "source": [
    "liste[0]"
   ]
  },
  {
   "cell_type": "code",
   "execution_count": 40,
   "id": "dd5dc149-a014-4b1b-ad25-8b82e734baba",
   "metadata": {},
   "outputs": [
    {
     "data": {
      "text/plain": [
       "['d', 'e']"
      ]
     },
     "execution_count": 40,
     "metadata": {},
     "output_type": "execute_result"
    }
   ],
   "source": [
    "liste[3:5]"
   ]
  },
  {
   "cell_type": "code",
   "execution_count": 41,
   "id": "25f9d851-a8e5-4dd7-ab64-07b8d0f3948c",
   "metadata": {},
   "outputs": [
    {
     "data": {
      "text/plain": [
       "['a', 'b', 'c', 'd', 'e', 'a', 'f']"
      ]
     },
     "execution_count": 41,
     "metadata": {},
     "output_type": "execute_result"
    }
   ],
   "source": [
    "liste"
   ]
  },
  {
   "cell_type": "code",
   "execution_count": 42,
   "id": "ae6e241b-a60c-491c-bc8d-d4fde6e4e67b",
   "metadata": {},
   "outputs": [
    {
     "data": {
      "text/plain": [
       "['a', 'b', 'c', 'd', 'e', 'a', 'f', 'g']"
      ]
     },
     "execution_count": 42,
     "metadata": {},
     "output_type": "execute_result"
    }
   ],
   "source": [
    "liste.append(\"g\")\n",
    "liste"
   ]
  },
  {
   "cell_type": "code",
   "execution_count": 43,
   "id": "262ff40d-b608-481b-b40e-e35952274962",
   "metadata": {},
   "outputs": [
    {
     "data": {
      "text/plain": [
       "'g'"
      ]
     },
     "execution_count": 43,
     "metadata": {},
     "output_type": "execute_result"
    }
   ],
   "source": [
    "liste.pop()"
   ]
  },
  {
   "cell_type": "code",
   "execution_count": 44,
   "id": "292d52d4-64db-4b3f-ab75-7a7ef16336f6",
   "metadata": {},
   "outputs": [
    {
     "data": {
      "text/plain": [
       "['a', 'b', 'c', 'd', 'e', 'a', 'f']"
      ]
     },
     "execution_count": 44,
     "metadata": {},
     "output_type": "execute_result"
    }
   ],
   "source": [
    "liste"
   ]
  },
  {
   "cell_type": "code",
   "execution_count": 45,
   "id": "b520f9ee-de58-4be6-b6fc-9fc4d9005c60",
   "metadata": {},
   "outputs": [
    {
     "data": {
      "text/plain": [
       "['a', 'b', 'c', 'd', 'e', 'f']"
      ]
     },
     "execution_count": 45,
     "metadata": {},
     "output_type": "execute_result"
    }
   ],
   "source": [
    "liste.pop(5)\n",
    "liste"
   ]
  },
  {
   "cell_type": "code",
   "execution_count": 46,
   "id": "a8abe23b-84ea-4181-92c1-d10063054cee",
   "metadata": {},
   "outputs": [
    {
     "data": {
      "text/plain": [
       "[123, 54511, 65254, 2158, 13481, 5878, 1, 1]"
      ]
     },
     "execution_count": 46,
     "metadata": {},
     "output_type": "execute_result"
    }
   ],
   "source": [
    "sayilar = [123,54511,65254,2158,13481,5878,1,1]\n",
    "sayilar"
   ]
  },
  {
   "cell_type": "code",
   "execution_count": 47,
   "id": "374c0877-d398-45ca-bcd4-a373198a086e",
   "metadata": {},
   "outputs": [
    {
     "data": {
      "text/plain": [
       "[1, 1, 123, 2158, 5878, 13481, 54511, 65254]"
      ]
     },
     "execution_count": 47,
     "metadata": {},
     "output_type": "execute_result"
    }
   ],
   "source": [
    "sayilar.sort()\n",
    "sayilar"
   ]
  },
  {
   "cell_type": "code",
   "execution_count": 48,
   "id": "e166c59a-0cbc-462b-b2fa-243f81837d13",
   "metadata": {},
   "outputs": [
    {
     "data": {
      "text/plain": [
       "[65254, 54511, 13481, 5878, 2158, 123, 1, 1]"
      ]
     },
     "execution_count": 48,
     "metadata": {},
     "output_type": "execute_result"
    }
   ],
   "source": [
    "sayilar.reverse()\n",
    "sayilar"
   ]
  },
  {
   "cell_type": "code",
   "execution_count": 49,
   "id": "ba9b3b7c-5ba3-411a-9dab-93de2a4158bd",
   "metadata": {},
   "outputs": [
    {
     "data": {
      "text/plain": [
       "2"
      ]
     },
     "execution_count": 49,
     "metadata": {},
     "output_type": "execute_result"
    }
   ],
   "source": [
    "sayilar.count(1)"
   ]
  },
  {
   "cell_type": "code",
   "execution_count": 50,
   "id": "351050ce-cc84-4b71-ac34-26e153a57bf3",
   "metadata": {},
   "outputs": [
    {
     "data": {
      "text/plain": [
       "3"
      ]
     },
     "execution_count": 50,
     "metadata": {},
     "output_type": "execute_result"
    }
   ],
   "source": [
    "sayilar.index(5878)"
   ]
  },
  {
   "cell_type": "code",
   "execution_count": 51,
   "id": "d884cb9c-9bb5-4b74-a8a3-94a56631eb2e",
   "metadata": {},
   "outputs": [],
   "source": [
    "sayilar.insert(0,5)"
   ]
  },
  {
   "cell_type": "code",
   "execution_count": 52,
   "id": "de691b1d-bf31-42b3-9d1a-b21ebfe6f070",
   "metadata": {},
   "outputs": [
    {
     "data": {
      "text/plain": [
       "[5, 65254, 54511, 13481, 5878, 2158, 123, 1, 1]"
      ]
     },
     "execution_count": 52,
     "metadata": {},
     "output_type": "execute_result"
    }
   ],
   "source": [
    "sayilar"
   ]
  },
  {
   "cell_type": "code",
   "execution_count": 53,
   "id": "62d35a1c-1f32-4528-ab42-63104c2af5ea",
   "metadata": {},
   "outputs": [
    {
     "name": "stdout",
     "output_type": "stream",
     "text": [
      "[5, 65254, 54511, 13481, 5878, 2158, 123, 1, 1]\n",
      "{1, 5, 65254, 13481, 2158, 54511, 5878, 123}\n"
     ]
    }
   ],
   "source": [
    "print(sayilar)\n",
    "kume = set(sayilar)\n",
    "print(kume)"
   ]
  },
  {
   "cell_type": "markdown",
   "id": "f46a25ab-474a-496c-98f0-d12e2ac7295e",
   "metadata": {},
   "source": [
    "#### **tuple**\n",
    "      (a ,  b ,  c ,  d ,  e ,  a) \n",
    "      ____________________________\n",
    "       0 |  1 |  2 |  3 |  4 |  5 \n",
    "       0 | -5 | -4 | -3 | -4 | -1 \n",
    "  "
   ]
  },
  {
   "cell_type": "code",
   "execution_count": 54,
   "id": "9257c6c3-9a21-4526-815e-a648e2fee382",
   "metadata": {},
   "outputs": [
    {
     "name": "stdout",
     "output_type": "stream",
     "text": [
      "['a', 'b', 'c', 'd', 'e', 'a']\n",
      "('a', 'b', 'c', 'd', 'e', 'a')\n"
     ]
    }
   ],
   "source": [
    "liste = [\"a\", \"b\", \"c\", \"d\", \"e\", \"a\"]\n",
    "print(liste)\n",
    "tup = (\"a\", \"b\", \"c\", \"d\", \"e\", \"a\")\n",
    "print(tup)"
   ]
  },
  {
   "cell_type": "code",
   "execution_count": 55,
   "id": "3fa0b655-3029-4238-8983-af6cb31bb012",
   "metadata": {},
   "outputs": [
    {
     "data": {
      "text/plain": [
       "[100, 'b', 'c', 'd', 'e', 'a']"
      ]
     },
     "execution_count": 55,
     "metadata": {},
     "output_type": "execute_result"
    }
   ],
   "source": [
    "liste[0] = 100\n",
    "liste"
   ]
  },
  {
   "cell_type": "code",
   "execution_count": 56,
   "id": "141cc8ea-5623-45d0-95a4-394bcf2d1d84",
   "metadata": {},
   "outputs": [
    {
     "ename": "TypeError",
     "evalue": "'tuple' object does not support item assignment",
     "output_type": "error",
     "traceback": [
      "\u001b[1;31m---------------------------------------------------------------------------\u001b[0m",
      "\u001b[1;31mTypeError\u001b[0m                                 Traceback (most recent call last)",
      "\u001b[1;32m~\\AppData\\Local\\Temp/ipykernel_21308/539140760.py\u001b[0m in \u001b[0;36m<module>\u001b[1;34m\u001b[0m\n\u001b[0;32m      1\u001b[0m \u001b[1;31m#Tuple değiştirilemez, eleman eklenemez.\u001b[0m\u001b[1;33m\u001b[0m\u001b[1;33m\u001b[0m\u001b[1;33m\u001b[0m\u001b[0m\n\u001b[1;32m----> 2\u001b[1;33m \u001b[0mtup\u001b[0m\u001b[1;33m[\u001b[0m\u001b[1;36m0\u001b[0m\u001b[1;33m]\u001b[0m \u001b[1;33m=\u001b[0m \u001b[1;36m100\u001b[0m\u001b[1;33m\u001b[0m\u001b[1;33m\u001b[0m\u001b[0m\n\u001b[0m\u001b[0;32m      3\u001b[0m \u001b[0mtup\u001b[0m\u001b[1;33m\u001b[0m\u001b[1;33m\u001b[0m\u001b[0m\n",
      "\u001b[1;31mTypeError\u001b[0m: 'tuple' object does not support item assignment"
     ]
    }
   ],
   "source": [
    "#Tuple değiştirilemez, eleman eklenemez.\n",
    "tup[0] = 100\n",
    "tup"
   ]
  },
  {
   "cell_type": "code",
   "execution_count": null,
   "id": "e4618a72-1007-45c6-8401-a7e56e0c759e",
   "metadata": {},
   "outputs": [],
   "source": [
    "tup"
   ]
  },
  {
   "cell_type": "code",
   "execution_count": 57,
   "id": "d3244357-7dce-4828-be63-f57dcd1b66a0",
   "metadata": {},
   "outputs": [
    {
     "data": {
      "text/plain": [
       "2"
      ]
     },
     "execution_count": 57,
     "metadata": {},
     "output_type": "execute_result"
    }
   ],
   "source": [
    "tup.count(\"a\")"
   ]
  },
  {
   "cell_type": "code",
   "execution_count": 58,
   "id": "b123c364-01b4-4d26-945b-04e31521e272",
   "metadata": {},
   "outputs": [
    {
     "data": {
      "text/plain": [
       "0"
      ]
     },
     "execution_count": 58,
     "metadata": {},
     "output_type": "execute_result"
    }
   ],
   "source": [
    "tup.count(\"h\")"
   ]
  },
  {
   "cell_type": "code",
   "execution_count": 59,
   "id": "85f3b5fa-2ca0-4a79-ba80-1d1a6f25114f",
   "metadata": {},
   "outputs": [
    {
     "data": {
      "text/plain": [
       "0"
      ]
     },
     "execution_count": 59,
     "metadata": {},
     "output_type": "execute_result"
    }
   ],
   "source": [
    "tup.index(\"a\")"
   ]
  },
  {
   "cell_type": "markdown",
   "id": "7c623e6e-3fbc-4feb-8693-9bcb3050b5d4",
   "metadata": {},
   "source": [
    "#### **dictionary**"
   ]
  },
  {
   "cell_type": "code",
   "execution_count": 60,
   "id": "9dd80ffb-40c0-47a0-9b38-ef609ba1c50e",
   "metadata": {},
   "outputs": [
    {
     "data": {
      "text/plain": [
       "{'isim': 'İbrahim', 'yas': 25, 'lokasyon': 'Diyarbakır'}"
      ]
     },
     "execution_count": 60,
     "metadata": {},
     "output_type": "execute_result"
    }
   ],
   "source": [
    "dict1 = {\"isim\": \"İbrahim\", \"yas\": 25, \"lokasyon\": \"Diyarbakır\"}\n",
    "dict1"
   ]
  },
  {
   "cell_type": "code",
   "execution_count": 61,
   "id": "24dae8be-2dbc-4ffb-8f01-3684333f8471",
   "metadata": {},
   "outputs": [
    {
     "data": {
      "text/plain": [
       "{'isim': 'İbrahim',\n",
       " 'yas': 25,\n",
       " 'dogduguSehir': 'Diyarbakır',\n",
       " 'yasadigiSehir': 'Erzurum'}"
      ]
     },
     "execution_count": 61,
     "metadata": {},
     "output_type": "execute_result"
    }
   ],
   "source": [
    "dict2 = {\n",
    "     \"isim\": \"İbrahim\",\n",
    "     \"yas\": 25,\n",
    "     \"dogduguSehir\": \"Diyarbakır\",\n",
    "     \"yasadigiSehir\": \"Erzurum\"\n",
    "}\n",
    "dict2"
   ]
  },
  {
   "cell_type": "code",
   "execution_count": 62,
   "id": "bcd2ee0b-ca9a-40e8-84e8-75ab2a6cfc41",
   "metadata": {},
   "outputs": [
    {
     "data": {
      "text/plain": [
       "{'isim': 'İbrahim',\n",
       " 'yas': 25,\n",
       " 'lokasyon': {'dogduguSehir': 'Diyarbakır', 'yasadigiSehir': 'Erzurum'}}"
      ]
     },
     "execution_count": 62,
     "metadata": {},
     "output_type": "execute_result"
    }
   ],
   "source": [
    "dict3 = {\n",
    "    \"isim\": \"İbrahim\", \n",
    "    \"yas\": 25, \n",
    "    \"lokasyon\": {\n",
    "        \"dogduguSehir\": \"Diyarbakır\",\n",
    "        \"yasadigiSehir\": \"Erzurum\"\n",
    "    }\n",
    "}\n",
    "dict3"
   ]
  },
  {
   "cell_type": "code",
   "execution_count": 63,
   "id": "5ea15343-54f6-4033-a94e-3f94e7e5b53f",
   "metadata": {},
   "outputs": [
    {
     "data": {
      "text/plain": [
       "25"
      ]
     },
     "execution_count": 63,
     "metadata": {},
     "output_type": "execute_result"
    }
   ],
   "source": [
    "dict2[\"yas\"]"
   ]
  },
  {
   "cell_type": "code",
   "execution_count": 64,
   "id": "884b4709-e845-485f-95c9-94855492966e",
   "metadata": {},
   "outputs": [
    {
     "data": {
      "text/plain": [
       "'Diyarbakır'"
      ]
     },
     "execution_count": 64,
     "metadata": {},
     "output_type": "execute_result"
    }
   ],
   "source": [
    "dict3[\"lokasyon\"][\"dogduguSehir\"]"
   ]
  },
  {
   "cell_type": "code",
   "execution_count": 65,
   "id": "033f3ec0-e331-40cd-9846-f55bfb112ef3",
   "metadata": {},
   "outputs": [
    {
     "data": {
      "text/plain": [
       "25"
      ]
     },
     "execution_count": 65,
     "metadata": {},
     "output_type": "execute_result"
    }
   ],
   "source": [
    "dict2.get(\"yas\")"
   ]
  },
  {
   "cell_type": "code",
   "execution_count": 66,
   "id": "260646f0-2031-4088-adf7-b63f23042702",
   "metadata": {},
   "outputs": [
    {
     "data": {
      "text/plain": [
       "'Erzurum'"
      ]
     },
     "execution_count": 66,
     "metadata": {},
     "output_type": "execute_result"
    }
   ],
   "source": [
    "dict3.get(\"lokasyon\").get(\"yasadigiSehir\")"
   ]
  },
  {
   "cell_type": "code",
   "execution_count": 67,
   "id": "d80a2b61-7d5d-4d38-80a4-9831430b46c5",
   "metadata": {},
   "outputs": [
    {
     "data": {
      "text/plain": [
       "dict_keys(['isim', 'yas', 'dogduguSehir', 'yasadigiSehir'])"
      ]
     },
     "execution_count": 67,
     "metadata": {},
     "output_type": "execute_result"
    }
   ],
   "source": [
    "dict2.keys()"
   ]
  },
  {
   "cell_type": "code",
   "execution_count": 68,
   "id": "e9178e0c-fe6b-43c6-aeeb-f89343a78948",
   "metadata": {},
   "outputs": [
    {
     "data": {
      "text/plain": [
       "dict_values(['İbrahim', 25, 'Diyarbakır', 'Erzurum'])"
      ]
     },
     "execution_count": 68,
     "metadata": {},
     "output_type": "execute_result"
    }
   ],
   "source": [
    "dict2.values()"
   ]
  },
  {
   "cell_type": "code",
   "execution_count": 69,
   "id": "949b761f-297c-4694-abdf-86a87881388e",
   "metadata": {},
   "outputs": [
    {
     "data": {
      "text/plain": [
       "dict_items([('isim', 'İbrahim'), ('yas', 25), ('dogduguSehir', 'Diyarbakır'), ('yasadigiSehir', 'Erzurum')])"
      ]
     },
     "execution_count": 69,
     "metadata": {},
     "output_type": "execute_result"
    }
   ],
   "source": [
    "dict2.items()"
   ]
  }
 ],
 "metadata": {
  "kernelspec": {
   "display_name": "Python 3 (ipykernel)",
   "language": "python",
   "name": "python3"
  },
  "language_info": {
   "codemirror_mode": {
    "name": "ipython",
    "version": 3
   },
   "file_extension": ".py",
   "mimetype": "text/x-python",
   "name": "python",
   "nbconvert_exporter": "python",
   "pygments_lexer": "ipython3",
   "version": "3.9.6"
  }
 },
 "nbformat": 4,
 "nbformat_minor": 5
}
