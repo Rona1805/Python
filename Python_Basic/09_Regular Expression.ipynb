{
 "cells": [
  {
   "cell_type": "markdown",
   "id": "fe9fe05f-fba0-4dbe-a04c-15e9bfc32a38",
   "metadata": {},
   "source": [
    "### **REgular Expressions (REGEX)**"
   ]
  },
  {
   "cell_type": "code",
   "execution_count": 2,
   "id": "8e96ae50-1d34-4cd8-bafb-2d68dab8520a",
   "metadata": {},
   "outputs": [],
   "source": [
    "import re"
   ]
  },
  {
   "cell_type": "code",
   "execution_count": 3,
   "id": "85bda508-0ea1-40b3-a425-9a3217b399da",
   "metadata": {},
   "outputs": [],
   "source": [
    "cumle = \"Mustafa Kemal Atatürk, Türk asker, devlet adamı ve Türkiye Cumhuriyetinin kurucusudur.\""
   ]
  },
  {
   "cell_type": "code",
   "execution_count": 4,
   "id": "5b70ff08-a2a2-4562-bf10-2e0adc387a41",
   "metadata": {},
   "outputs": [
    {
     "data": {
      "text/plain": [
       "<re.Match object; span=(23, 27), match='Türk'>"
      ]
     },
     "execution_count": 4,
     "metadata": {},
     "output_type": "execute_result"
    }
   ],
   "source": [
    "patern = \"Türk\"\n",
    "re.search(patern, cumle)"
   ]
  },
  {
   "cell_type": "code",
   "execution_count": 5,
   "id": "32cbd039-4df5-4156-8c2c-eadbb4170d6d",
   "metadata": {},
   "outputs": [
    {
     "data": {
      "text/plain": [
       "(23, 27)"
      ]
     },
     "execution_count": 5,
     "metadata": {},
     "output_type": "execute_result"
    }
   ],
   "source": [
    "durum = re.search(patern, cumle)\n",
    "durum.span()"
   ]
  },
  {
   "cell_type": "code",
   "execution_count": 6,
   "id": "8121abc9-389a-4977-814a-4ac31ef5308d",
   "metadata": {},
   "outputs": [
    {
     "data": {
      "text/plain": [
       "['__class__',\n",
       " '__class_getitem__',\n",
       " '__copy__',\n",
       " '__deepcopy__',\n",
       " '__delattr__',\n",
       " '__dir__',\n",
       " '__doc__',\n",
       " '__eq__',\n",
       " '__format__',\n",
       " '__ge__',\n",
       " '__getattribute__',\n",
       " '__getitem__',\n",
       " '__gt__',\n",
       " '__hash__',\n",
       " '__init__',\n",
       " '__init_subclass__',\n",
       " '__le__',\n",
       " '__lt__',\n",
       " '__ne__',\n",
       " '__new__',\n",
       " '__reduce__',\n",
       " '__reduce_ex__',\n",
       " '__repr__',\n",
       " '__setattr__',\n",
       " '__sizeof__',\n",
       " '__str__',\n",
       " '__subclasshook__',\n",
       " 'end',\n",
       " 'endpos',\n",
       " 'expand',\n",
       " 'group',\n",
       " 'groupdict',\n",
       " 'groups',\n",
       " 'lastgroup',\n",
       " 'lastindex',\n",
       " 'pos',\n",
       " 're',\n",
       " 'regs',\n",
       " 'span',\n",
       " 'start',\n",
       " 'string']"
      ]
     },
     "execution_count": 6,
     "metadata": {},
     "output_type": "execute_result"
    }
   ],
   "source": [
    "dir(durum)"
   ]
  },
  {
   "cell_type": "code",
   "execution_count": 7,
   "id": "8ad54e34-7d02-4227-967e-fbf5d4d3edff",
   "metadata": {},
   "outputs": [
    {
     "data": {
      "text/plain": [
       "23"
      ]
     },
     "execution_count": 7,
     "metadata": {},
     "output_type": "execute_result"
    }
   ],
   "source": [
    "durum.start()"
   ]
  },
  {
   "cell_type": "code",
   "execution_count": 8,
   "id": "6b570680-0969-4ee1-a760-a2e3c0034319",
   "metadata": {},
   "outputs": [
    {
     "data": {
      "text/plain": [
       "27"
      ]
     },
     "execution_count": 8,
     "metadata": {},
     "output_type": "execute_result"
    }
   ],
   "source": [
    "durum.end()"
   ]
  },
  {
   "cell_type": "code",
   "execution_count": 9,
   "id": "885c3d10-f719-4aaf-90b1-ee0377ad3ca6",
   "metadata": {},
   "outputs": [
    {
     "data": {
      "text/plain": [
       "'Türk'"
      ]
     },
     "execution_count": 9,
     "metadata": {},
     "output_type": "execute_result"
    }
   ],
   "source": [
    "durum.group()"
   ]
  },
  {
   "cell_type": "markdown",
   "id": "97888975-4026-4d78-841e-060f2423e419",
   "metadata": {},
   "source": [
    "#### **Çoklu Eşleşmelerde (match)**"
   ]
  },
  {
   "cell_type": "code",
   "execution_count": 10,
   "id": "7df22b96-4046-4b61-806e-bcc826960b4e",
   "metadata": {},
   "outputs": [
    {
     "name": "stdout",
     "output_type": "stream",
     "text": [
      "Türk\n",
      "Türk\n"
     ]
    }
   ],
   "source": [
    "for eslesme in re.findall(patern, cumle):\n",
    "    print(eslesme)"
   ]
  },
  {
   "cell_type": "code",
   "execution_count": 11,
   "id": "1e8f5730-15cb-4f4f-83a3-96d97d00340e",
   "metadata": {},
   "outputs": [
    {
     "name": "stdout",
     "output_type": "stream",
     "text": [
      "(23, 27) Türk\n",
      "(51, 55) Türk\n"
     ]
    }
   ],
   "source": [
    "for eslesme in re.finditer(patern, cumle):\n",
    "    print(eslesme.span(), eslesme.group())"
   ]
  },
  {
   "cell_type": "markdown",
   "id": "226c888f-a4c2-441a-84b6-e38e84dc21f4",
   "metadata": {},
   "source": [
    "### **Dinamik Kullanım**"
   ]
  },
  {
   "cell_type": "raw",
   "id": "fff7355b-79c1-4550-aa1a-7185f995cb71",
   "metadata": {},
   "source": [
    "###################################################################################\n",
    "###    İfade   ###       Açıklama     ###     Örnek      ###       Patern       ###\n",
    "### ----------------------------------------------------------------------------###\n",
    "###     \\d     ###      rakam         ###     base-42    ###      base\\d\\d      ###\n",
    "###     \\w     ###      karakter      ###     R2-D2      ###     \\w\\w\\w\\w\\w     ###\n",
    "###     \\s     ###      boşluk        ###    Ping Pong   ###    Ping\\sPong      ### \n",
    "###     \\D     ###     rakam değil    ###     base       ###     \\D\\D\\D\\D       ###\n",
    "###     \\W     ###     karakter değil ###     R2D2       ###     \\W\\W\\W\\W       ###\n",
    "###     \\S     ###     boşluk değil   ###    PingPong    ###   \\S\\S\\S\\S\\S\\S\\S\\S ###\n",
    "###################################################################################"
   ]
  },
  {
   "cell_type": "code",
   "execution_count": 12,
   "id": "cacb5637-7b59-4d76-af6a-25573ac1b489",
   "metadata": {},
   "outputs": [
    {
     "data": {
      "text/plain": [
       "<re.Match object; span=(18, 24), match='base42'>"
      ]
     },
     "execution_count": 12,
     "metadata": {},
     "output_type": "execute_result"
    }
   ],
   "source": [
    "ornek = \"En sevdiğim kanal base42\"\n",
    "patern = r\"base\\d\\d\"\n",
    "re.search(patern, ornek)"
   ]
  },
  {
   "cell_type": "code",
   "execution_count": 13,
   "id": "59ad7297-c49a-48b9-9cae-f3e2ef647025",
   "metadata": {},
   "outputs": [
    {
     "data": {
      "text/plain": [
       "<re.Match object; span=(29, 41), match='0535-8886365'>"
      ]
     },
     "execution_count": 13,
     "metadata": {},
     "output_type": "execute_result"
    }
   ],
   "source": [
    "cumle = \"Selam, benim telefon numaram 0535-8886365.\"\n",
    "patern = r\"\\d\\d\\d\\d-\\d\\d\\d\\d\\d\\d\\d\"\n",
    "re.search(patern, cumle)"
   ]
  },
  {
   "cell_type": "raw",
   "id": "ff6ea3af-4d7d-4c25-8ee1-a27130d99ee4",
   "metadata": {},
   "source": [
    "#############################################################################\n",
    "###    İfade   ###     Açıklama     ###     Örnek      ###      Patern    ###\n",
    "### ----------------------------------------------------------------------###\n",
    "###     {5}    ###      adet        ###     aaaaa      ###      \\w{5}     ###\n",
    "###     {3,4}  ###      veya        ###      abc       ###     \\w{3,4}    ###\n",
    "###     {2,}   ###      en az       ###    198721321   ###     \\d{2,}     ### \n",
    "###      *     ###  0 ya da fazla   ###       x        ###       \\w*      ###\n",
    "###      +     ###  1 ya da fazla   ###     Ahmet1     ###      \\w+\\d+    ###\n",
    "###      ?     ###   ya 1 ya hiç    ###      Mura      ###      Murat?    ###\n",
    "###-----------------------------------------------------------------------###\n",
    "#############################################################################"
   ]
  },
  {
   "cell_type": "code",
   "execution_count": 14,
   "id": "dfc8ea06-44ed-4714-b471-91b2eb12e15e",
   "metadata": {},
   "outputs": [
    {
     "data": {
      "text/plain": [
       "<re.Match object; span=(29, 41), match='0535-8886365'>"
      ]
     },
     "execution_count": 14,
     "metadata": {},
     "output_type": "execute_result"
    }
   ],
   "source": [
    "cumle = \"Selam, benim telefon numaram 0535-8886365.\"\n",
    "patern = r\"\\d{3,4}-\\d{7}\"\n",
    "re.search(patern, cumle)"
   ]
  },
  {
   "cell_type": "code",
   "execution_count": 15,
   "id": "9d0cd416-2a5b-4617-a4a5-fbd00f586cdf",
   "metadata": {},
   "outputs": [
    {
     "name": "stdout",
     "output_type": "stream",
     "text": [
      " sevdiğim (2, 11)\n",
      " kanal (11, 17)\n",
      " base42 (17, 24)\n"
     ]
    }
   ],
   "source": [
    "cumle = \"En sevdiğim kanal base42\"\n",
    "patern = r\"\\s\\w{5,}\"\n",
    "for eslesme in re.finditer(patern,cumle):\n",
    "    print(eslesme.group(), eslesme.span())"
   ]
  },
  {
   "cell_type": "code",
   "execution_count": 16,
   "id": "391ca559-c1b2-42f0-ab57-ceaa23a6cc67",
   "metadata": {},
   "outputs": [
    {
     "name": "stdout",
     "output_type": "stream",
     "text": [
      " (0, 0)\n",
      " (1, 1)\n",
      " (2, 2)\n",
      " (3, 3)\n",
      " (4, 4)\n",
      " (5, 5)\n",
      " (6, 6)\n",
      " (7, 7)\n",
      " (8, 8)\n",
      " (9, 9)\n",
      " (10, 10)\n",
      " (11, 11)\n",
      " (12, 12)\n",
      " (13, 13)\n",
      " (14, 14)\n",
      " (15, 15)\n",
      " (16, 16)\n",
      " (17, 17)\n",
      " (18, 18)\n",
      " (19, 19)\n",
      " (20, 20)\n",
      " (21, 21)\n",
      "4 (22, 23)\n",
      "2 (23, 24)\n",
      " (24, 24)\n"
     ]
    }
   ],
   "source": [
    "patern = r\"\\d?\"\n",
    "for eslesme in re.finditer(patern, cumle):\n",
    "    print(eslesme.group(), eslesme.span())"
   ]
  },
  {
   "cell_type": "code",
   "execution_count": 17,
   "id": "3cdb5272-179a-448a-9430-bb12ebaa3a2f",
   "metadata": {},
   "outputs": [
    {
     "name": "stdout",
     "output_type": "stream",
     "text": [
      "42 (22, 24)\n"
     ]
    }
   ],
   "source": [
    "patern = r\"\\d+\"\n",
    "for eslesme in re.finditer(patern, cumle):\n",
    "    print(eslesme.group(), eslesme.span())"
   ]
  },
  {
   "cell_type": "code",
   "execution_count": 18,
   "id": "96ab1add-29a9-44db-825e-a9d308562813",
   "metadata": {},
   "outputs": [
    {
     "name": "stdout",
     "output_type": "stream",
     "text": [
      "base42 (18, 24)\n"
     ]
    }
   ],
   "source": [
    "patern = r\"\\w*\\d+\"\n",
    "for eslesme in re.finditer(patern, cumle):\n",
    "    print(eslesme.group(), eslesme.span())"
   ]
  },
  {
   "cell_type": "code",
   "execution_count": 19,
   "id": "fd7d2764-7838-4c75-9027-7ea2defe303e",
   "metadata": {},
   "outputs": [
    {
     "name": "stdout",
     "output_type": "stream",
     "text": [
      " sevdiğim (2, 11)\n",
      " kanal (11, 17)\n",
      " 42base (17, 24)\n"
     ]
    }
   ],
   "source": [
    "cumle = \"En sevdiğim kanal 42base\"\n",
    "patern = r\"\\s\\w{5,}\"\n",
    "for eslesme in re.finditer(patern,cumle):\n",
    "    print(eslesme.group(), eslesme.span())"
   ]
  },
  {
   "cell_type": "code",
   "execution_count": 20,
   "id": "d07f06b6-af16-4149-b3df-644bb8545edf",
   "metadata": {},
   "outputs": [
    {
     "name": "stdout",
     "output_type": "stream",
     "text": [
      "42 (18, 20)\n"
     ]
    }
   ],
   "source": [
    "patern = r\"\\w*\\d+\"\n",
    "for eslesme in re.finditer(patern, cumle):\n",
    "    print(eslesme.group(), eslesme.span())"
   ]
  },
  {
   "cell_type": "raw",
   "id": "49b3ec40-e0b5-44ea-9811-3205b65162de",
   "metadata": {},
   "source": [
    "### GSM Operatörleri:\n",
    "# 54...           -> Vodafone\n",
    "# 501,505,506     -> AVEA\n",
    "# 53...           -> Turkcell"
   ]
  },
  {
   "cell_type": "code",
   "execution_count": 56,
   "id": "db30f474-94a4-4218-81b9-f6aa8821e6bf",
   "metadata": {},
   "outputs": [],
   "source": [
    "def gsmOperator(telNo):\n",
    "    patern = r\"(\\d{3})-(\\d{7})\"\n",
    "    eslesme = re.search(patern, telNo)\n",
    "    if eslesme:\n",
    "        gsmKod =  eslesme.groups()[0]\n",
    "        if gsmKod.startswith(\"54\"):\n",
    "            return \"Vodafone\"\n",
    "        elif gsmKod.startswith(\"501\") or gsmKod.startswith(\"505\") or gsmKod.startswith(\"506\"):\n",
    "            return \"AVEA\"\n",
    "        elif gsmKod.startswith(\"53\"):\n",
    "            return \"Turkcell\"\n",
    "        else:\n",
    "            return \"Şebeke bulunamadı\"\n",
    "    else:\n",
    "        return \"Patern bulunamadı\"\n",
    "   "
   ]
  },
  {
   "cell_type": "code",
   "execution_count": 57,
   "id": "d41a6d3a-cb0f-4b10-a12f-b5606af4e05e",
   "metadata": {},
   "outputs": [
    {
     "data": {
      "text/plain": [
       "'Turkcell'"
      ]
     },
     "execution_count": 57,
     "metadata": {},
     "output_type": "execute_result"
    }
   ],
   "source": [
    "telNo = \"0535-8886622\"\n",
    "gsmOperator(telNo)"
   ]
  },
  {
   "cell_type": "code",
   "execution_count": 58,
   "id": "5fe10490-1a14-4002-bfda-a284ee6ffe28",
   "metadata": {},
   "outputs": [
    {
     "data": {
      "text/plain": [
       "'Patern bulunamadı'"
      ]
     },
     "execution_count": 58,
     "metadata": {},
     "output_type": "execute_result"
    }
   ],
   "source": [
    "telNo = \"asd-8886622\"\n",
    "gsmOperator(telNo)"
   ]
  },
  {
   "cell_type": "raw",
   "id": "6e74531b-ecc1-4a93-a486-5a126230d06a",
   "metadata": {},
   "source": [
    "#############################################################################\n",
    "###    İfade   ###     Açıklama     ###     Örnek      ###      Patern    ###\n",
    "### ----------------------------------------------------------------------###\n",
    "###     |    ###        veya        ###      slm       ###    selam|slm   ###\n",
    "###     ^    ###       başlar       ###     Ahmet      ###      ^\\w+      ###\n",
    "###     $    ###       biter        ###     base42     ###       \\d$      ### \n",
    "###     .    ###      herhangi      ###     abcdef     ###       .*       ###\n",
    "###     \\    ###        esc         ###     (not)      ###    \\(\\w{3}\\)   ###\n",
    "###-----------------------------------------------------------------------###\n",
    "#############################################################################"
   ]
  },
  {
   "cell_type": "code",
   "execution_count": 68,
   "id": "6a977a84-ed9a-40e9-94d3-cdc1c85fdf6a",
   "metadata": {},
   "outputs": [],
   "source": [
    "import re\n",
    "def mesajHissiBul(mesaj):\n",
    "    hisler = []\n",
    "    pozitifPatern = r\"(merhaba|selam|aşk|sevgi|dost|kardeş|:\\)+)\"\n",
    "    negatifPatern = r\"(lan|aptal|abv|yeter|bırak)\"\n",
    "    heyecanliPatern = r\"!|[!|?]{2,}$\"\n",
    "    sakinPatern = r\"^[T|t]abi+|H|h]ay\"\n",
    "    eminPatern = r\"[K|k]esin|[T|t]abi|[E|e]lbet\"\n",
    "    kararsizPatern = r\"[B|b]elki|[S|s]anırım\"\n",
    "    if re.search(pozitifPatern, mesaj):\n",
    "        hisler.append(\"Pozitif\")\n",
    "    if re.search(negatifPatern, mesaj):\n",
    "        hisler.append(\"Negatif\")\n",
    "    if re.search(heyecanliPatern, mesaj):\n",
    "        hisler.append(\"Heyecanlı\")\n",
    "    if re.search(sakinPatern, mesaj):\n",
    "        hisler.append(\"Sakin\")\n",
    "    if re.search(eminPatern, mesaj):\n",
    "        hisler.append(\"Emin\")\n",
    "    if re.search(kararsizPatern, mesaj):\n",
    "        hisler.append(\"Kararsız\")\n",
    "    return hisler\n",
    "        "
   ]
  },
  {
   "cell_type": "code",
   "execution_count": 69,
   "id": "04e80396-cd1b-470f-aa10-b0e5c79c67bf",
   "metadata": {},
   "outputs": [
    {
     "name": "stdout",
     "output_type": "stream",
     "text": [
      "Nasılsın abi? :)           \t ['Pozitif']\n",
      "Tabiii ki buyrun           \t ['Sakin', 'Emin']\n",
      "Saçmalamayı bırak artık!   \t ['Negatif', 'Heyecanlı']\n",
      "Belki yarından da yakın... \t ['Kararsız']\n",
      "Elbet birgün buluşacağız   \t ['Emin']\n"
     ]
    }
   ],
   "source": [
    "cumle1 = \"Nasılsın abi? :)          \"\n",
    "cumle2 = \"Tabiii ki buyrun          \"\n",
    "cumle3 = \"Saçmalamayı bırak artık!  \"\n",
    "cumle4 = \"Belki yarından da yakın...\"\n",
    "cumle5 = \"Elbet birgün buluşacağız  \"\n",
    "cumleler = [cumle1,cumle2,cumle3,cumle4,cumle5]\n",
    "for cumle in cumleler:\n",
    "    print(cumle, \"\\t\", mesajHissiBul(cumle))"
   ]
  }
 ],
 "metadata": {
  "kernelspec": {
   "display_name": "Python 3 (ipykernel)",
   "language": "python",
   "name": "python3"
  },
  "language_info": {
   "codemirror_mode": {
    "name": "ipython",
    "version": 3
   },
   "file_extension": ".py",
   "mimetype": "text/x-python",
   "name": "python",
   "nbconvert_exporter": "python",
   "pygments_lexer": "ipython3",
   "version": "3.9.6"
  }
 },
 "nbformat": 4,
 "nbformat_minor": 5
}
