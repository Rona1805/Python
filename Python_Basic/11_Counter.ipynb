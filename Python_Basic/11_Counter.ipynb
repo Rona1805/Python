{
 "cells": [
  {
   "cell_type": "markdown",
   "id": "4f282888-5a11-4882-b6e9-0548d1e570ab",
   "metadata": {},
   "source": [
    "#### **collections Modulü**"
   ]
  },
  {
   "cell_type": "code",
   "execution_count": 5,
   "id": "8dd9d1c7-ef9e-4565-8102-02f02df5cf6b",
   "metadata": {},
   "outputs": [],
   "source": [
    "from collections import Counter\n",
    "import random"
   ]
  },
  {
   "cell_type": "code",
   "execution_count": 10,
   "id": "f128c2f7-fc18-4bb8-a0af-b47dbcbb55a3",
   "metadata": {},
   "outputs": [
    {
     "name": "stdout",
     "output_type": "stream",
     "text": [
      "[[8, 5, 0, 4], [3, 7, 8, 0], [6, 9, 2, 7], [8, 9, 1, 4]]\n",
      "[8, 5, 0, 4, 3, 7, 8, 0, 6, 9, 2, 7, 8, 9, 1, 4]\n"
     ]
    }
   ],
   "source": [
    "list1 = random.sample([*range(0,10)], k=4)\n",
    "list2 = random.sample([*range(0,10)], k=4)\n",
    "list3 = random.sample([*range(0,10)], k=4)\n",
    "list4 = random.sample([*range(0,10)], k=4)\n",
    "listeListesi = [list1,list2,list3,list4]\n",
    "listToplam = list1 + list2 + list3 + list4\n",
    "print(listeListesi)\n",
    "print(listToplam)"
   ]
  },
  {
   "cell_type": "code",
   "execution_count": 16,
   "id": "8f1c9d43-a663-462c-80d0-c95baa63ca4f",
   "metadata": {},
   "outputs": [
    {
     "name": "stdout",
     "output_type": "stream",
     "text": [
      "0. liste \t[8, 5, 0, 4]\n",
      "1. liste \t[3, 7, 8, 0]\n",
      "2. liste \t[6, 9, 2, 7]\n",
      "3. liste \t[8, 9, 1, 4]\n"
     ]
    },
    {
     "data": {
      "text/plain": [
       "Counter({8: 3, 5: 1, 0: 2, 4: 2, 3: 1, 7: 2, 6: 1, 9: 2, 2: 1, 1: 1})"
      ]
     },
     "execution_count": 35,
     "metadata": {},
     "output_type": "execute_result"
    }
   ],
   "source": [
    "for i, liste in enumerate(listeListesi):\n",
    "    print(f\"{i}. liste \\t{liste}\")\n",
    "Counter(listToplam)"
   ]
  },
  {
   "cell_type": "code",
   "execution_count": 17,
   "id": "ffebefd6-b766-4a3b-820a-600f56675f46",
   "metadata": {},
   "outputs": [
    {
     "data": {
      "text/plain": [
       "Counter({'s': 4,\n",
       "         'd': 1,\n",
       "         'a': 4,\n",
       "         'f': 4,\n",
       "         'h': 2,\n",
       "         'g': 2,\n",
       "         'j': 2,\n",
       "         'l': 4,\n",
       "         'k': 1,\n",
       "         'ş': 2})"
      ]
     },
     "execution_count": 36,
     "metadata": {},
     "output_type": "execute_result"
    }
   ],
   "source": [
    "Counter(\"sdasfasfaasfhgfjghllkşlşjl\")"
   ]
  },
  {
   "cell_type": "code",
   "execution_count": 25,
   "id": "d78d4f1e-2a5d-4a38-a30e-ca8c9d6e958f",
   "metadata": {},
   "outputs": [],
   "source": [
    "sarki = \"\"\"Yine bana gel\n",
    "Yana yana yine beni sev\n",
    "Yine bana gel\n",
    "Yana yana yine beni sev\"\"\""
   ]
  },
  {
   "cell_type": "code",
   "execution_count": 26,
   "id": "a38f82ea-7030-4bd8-8c39-40300d003a81",
   "metadata": {},
   "outputs": [
    {
     "data": {
      "text/plain": [
       "Counter({'Yine bana gel': 2, 'Yana yana yine beni sev': 2})"
      ]
     },
     "execution_count": 38,
     "metadata": {},
     "output_type": "execute_result"
    }
   ],
   "source": [
    "bolunmusSarki = sarki.split(\"\\n\")\n",
    "Counter(bolunmusSarki)"
   ]
  },
  {
   "cell_type": "code",
   "execution_count": 30,
   "id": "6922c90c-50ee-42fb-b478-1c935b6f3bbd",
   "metadata": {},
   "outputs": [
    {
     "data": {
      "text/plain": [
       "Counter({'Yine': 2,\n",
       "         'bana': 2,\n",
       "         'gel': 2,\n",
       "         'Yana': 2,\n",
       "         'yana': 2,\n",
       "         'yine': 2,\n",
       "         'beni': 2,\n",
       "         'sev': 2})"
      ]
     },
     "execution_count": 39,
     "metadata": {},
     "output_type": "execute_result"
    }
   ],
   "source": [
    "bolunmusSarki = sarki.split()\n",
    "Counter(bolunmusSarki)"
   ]
  },
  {
   "cell_type": "code",
   "execution_count": 29,
   "id": "ab76c0b3-c3fb-4ea4-9307-7f48d8859116",
   "metadata": {},
   "outputs": [
    {
     "data": {
      "text/plain": [
       "Counter({'yine': 4, 'bana': 2, 'gel': 2, 'yana': 4, 'beni': 2, 'sev': 2})"
      ]
     },
     "execution_count": 40,
     "metadata": {},
     "output_type": "execute_result"
    }
   ],
   "source": [
    "bolunmusSarki = sarki.lower().split()\n",
    "Counter(bolunmusSarki)"
   ]
  },
  {
   "cell_type": "code",
   "execution_count": 44,
   "id": "dd45e06f-b179-4d4c-a5bf-2c0995f9eb8d",
   "metadata": {},
   "outputs": [
    {
     "data": {
      "text/plain": [
       "[('yine', 4), ('yana', 4), ('bana', 2)]"
      ]
     },
     "execution_count": 44,
     "metadata": {},
     "output_type": "execute_result"
    }
   ],
   "source": [
    "bolunmusSarki = sarki.lower().split()\n",
    "Counter(bolunmusSarki).most_common(3)"
   ]
  }
 ],
 "metadata": {
  "kernelspec": {
   "display_name": "Python 3 (ipykernel)",
   "language": "python",
   "name": "python3"
  },
  "language_info": {
   "codemirror_mode": {
    "name": "ipython",
    "version": 3
   },
   "file_extension": ".py",
   "mimetype": "text/x-python",
   "name": "python",
   "nbconvert_exporter": "python",
   "pygments_lexer": "ipython3",
   "version": "3.9.6"
  }
 },
 "nbformat": 4,
 "nbformat_minor": 5
}
