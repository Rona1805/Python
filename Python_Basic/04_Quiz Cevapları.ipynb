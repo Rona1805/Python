{
 "cells": [
  {
   "cell_type": "code",
   "execution_count": 1,
   "id": "3cbc8d5a-c00f-4a1d-a9e2-a032d3bb4abb",
   "metadata": {},
   "outputs": [],
   "source": [
    "kullanici1 = {\n",
    "    \"ad\": \"Ferhat\",\n",
    "    \"soyad\": \"İbrik\",\n",
    "    \"uzmanlık\": [\"Front-End\"]\n",
    "}\n",
    "kullanici2 = {\n",
    "    \"ad\": \"Gökçe\",\n",
    "    \"soyad\": \"Gün\",\n",
    "    \"uzmanlık\": [\"Tasarım\"]\n",
    "}\n",
    "kullanici3 = {\n",
    "    \"ad\": \"Mesut\",\n",
    "    \"soyad\": \"Gün\",\n",
    "    \"uzmanlık\": [\"Front-End\"]\n",
    "}"
   ]
  },
  {
   "cell_type": "code",
   "execution_count": 2,
   "id": "e78402de-5ba6-476b-a30f-208fd377ceb5",
   "metadata": {},
   "outputs": [
    {
     "data": {
      "text/plain": [
       "['Front-End']"
      ]
     },
     "execution_count": 2,
     "metadata": {},
     "output_type": "execute_result"
    }
   ],
   "source": [
    "kullanici1[\"uzmanlık\"]"
   ]
  },
  {
   "cell_type": "code",
   "execution_count": 3,
   "id": "10f93db7-2765-4391-a26e-ebac66ff9a87",
   "metadata": {},
   "outputs": [
    {
     "data": {
      "text/plain": [
       "['Front-End']"
      ]
     },
     "execution_count": 3,
     "metadata": {},
     "output_type": "execute_result"
    }
   ],
   "source": [
    "kullanici1.get(\"uzmanlık\")"
   ]
  },
  {
   "cell_type": "code",
   "execution_count": 4,
   "id": "9b06001b-d535-468b-8fc6-60bcfca4666f",
   "metadata": {},
   "outputs": [
    {
     "name": "stdout",
     "output_type": "stream",
     "text": [
      "Ferhat İbrik\n",
      "Mesut Gün\n"
     ]
    }
   ],
   "source": [
    "kullaniciListesi = [kullanici1,kullanici2,kullanici3]\n",
    "for kullanici in kullaniciListesi:\n",
    "    if kullanici.get(\"uzmanlık\") == [\"Front-End\"]:\n",
    "        print(kullanici[\"ad\"], kullanici[\"soyad\"])"
   ]
  },
  {
   "cell_type": "code",
   "execution_count": 5,
   "id": "747b9cb4-7610-4ee8-86ed-08e8fbeef958",
   "metadata": {},
   "outputs": [],
   "source": [
    "kullaniciListesi = [kullanici1,kullanici2,kullanici3]\n",
    "kullanici3.get(\"uzmanlık\").append(\"Yazılım\")"
   ]
  },
  {
   "cell_type": "code",
   "execution_count": 6,
   "id": "d3a25a40-a1bb-4f09-84af-496cf3f05183",
   "metadata": {},
   "outputs": [
    {
     "data": {
      "text/plain": [
       "[{'ad': 'Ferhat', 'soyad': 'İbrik', 'uzmanlık': ['Front-End']},\n",
       " {'ad': 'Gökçe', 'soyad': 'Gün', 'uzmanlık': ['Tasarım']},\n",
       " {'ad': 'Mesut', 'soyad': 'Gün', 'uzmanlık': ['Front-End', 'Yazılım']}]"
      ]
     },
     "execution_count": 6,
     "metadata": {},
     "output_type": "execute_result"
    }
   ],
   "source": [
    "kullaniciListesi"
   ]
  },
  {
   "cell_type": "code",
   "execution_count": 7,
   "id": "006cef05-97c8-4afa-8eda-1036989cd9fc",
   "metadata": {},
   "outputs": [
    {
     "name": "stdout",
     "output_type": "stream",
     "text": [
      "{'ad': 'Mesut', 'soyad': 'Gün', 'uzmanlık': ['Front-End', 'Yazılım']}\n"
     ]
    }
   ],
   "source": [
    "for kullanici in kullaniciListesi:\n",
    "    if len(kullanici.get(\"uzmanlık\")) > 1:\n",
    "        print(kullanici)"
   ]
  },
  {
   "cell_type": "code",
   "execution_count": 8,
   "id": "5012bdde-8c76-4052-86e5-0abe3fe10206",
   "metadata": {},
   "outputs": [
    {
     "name": "stdout",
     "output_type": "stream",
     "text": [
      "{'ad': 'Ferhat', 'soyad': 'İbrik', 'uzmanlık': ['Front-End']}\n"
     ]
    }
   ],
   "source": [
    "kullaniciYaslari = [22,34,32]\n",
    "for kullanici, yas in zip(kullaniciListesi,kullaniciYaslari):\n",
    "        if yas < 30:\n",
    "            print(kullanici)"
   ]
  }
 ],
 "metadata": {
  "kernelspec": {
   "display_name": "Python 3 (ipykernel)",
   "language": "python",
   "name": "python3"
  },
  "language_info": {
   "codemirror_mode": {
    "name": "ipython",
    "version": 3
   },
   "file_extension": ".py",
   "mimetype": "text/x-python",
   "name": "python",
   "nbconvert_exporter": "python",
   "pygments_lexer": "ipython3",
   "version": "3.9.6"
  }
 },
 "nbformat": 4,
 "nbformat_minor": 5
}
