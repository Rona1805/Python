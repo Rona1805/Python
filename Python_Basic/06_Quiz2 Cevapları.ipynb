{
 "cells": [
  {
   "cell_type": "code",
   "execution_count": 1,
   "id": "2a6df568-25c7-4540-a044-ab2dd024a333",
   "metadata": {},
   "outputs": [
    {
     "data": {
      "text/plain": [
       "9"
      ]
     },
     "execution_count": 1,
     "metadata": {},
     "output_type": "execute_result"
    }
   ],
   "source": [
    "3**2"
   ]
  },
  {
   "cell_type": "code",
   "execution_count": 2,
   "id": "d430ab1c-ad10-4ce4-96dc-808e7e8a33c7",
   "metadata": {},
   "outputs": [],
   "source": [
    "def ustelSayiV1(a,b):\n",
    "    return int(a)**int(b)"
   ]
  },
  {
   "cell_type": "code",
   "execution_count": 3,
   "id": "d9d8dbbd-cbd9-4e8e-8aac-32e1d764782d",
   "metadata": {},
   "outputs": [
    {
     "data": {
      "text/plain": [
       "9"
      ]
     },
     "execution_count": 3,
     "metadata": {},
     "output_type": "execute_result"
    }
   ],
   "source": [
    "ustelSayiV1(3,2)"
   ]
  },
  {
   "cell_type": "code",
   "execution_count": 4,
   "id": "bbfb2859-776d-4b58-bc7a-183c7dccbf48",
   "metadata": {},
   "outputs": [],
   "source": [
    "def ustelSayiV2(a,b):\n",
    "    sonuc = 1\n",
    "    for kuvvet in range(1,b+1):\n",
    "        sonuc *=a\n",
    "    return sonuc"
   ]
  },
  {
   "cell_type": "code",
   "execution_count": 5,
   "id": "7a0f7108-5ff6-4fa8-bb40-b8f807af90a9",
   "metadata": {},
   "outputs": [
    {
     "data": {
      "text/plain": [
       "16"
      ]
     },
     "execution_count": 5,
     "metadata": {},
     "output_type": "execute_result"
    }
   ],
   "source": [
    "ustelSayiV2(2,4)"
   ]
  },
  {
   "cell_type": "code",
   "execution_count": 6,
   "id": "330a9b44-2c17-43b2-80dc-8fc46b202e93",
   "metadata": {},
   "outputs": [],
   "source": [
    "liste= [1,5,10,2,6]\n",
    "def listedekiEnBuyukIkıSayi():\n",
    "    liste.sort()\n",
    "    return liste[-1],liste[-2]"
   ]
  },
  {
   "cell_type": "code",
   "execution_count": 7,
   "id": "7eaf2c1e-3b38-427a-a878-f9c1246c86a8",
   "metadata": {},
   "outputs": [
    {
     "data": {
      "text/plain": [
       "(10, 6)"
      ]
     },
     "execution_count": 7,
     "metadata": {},
     "output_type": "execute_result"
    }
   ],
   "source": [
    "listedekiEnBuyukIkıSayi()"
   ]
  },
  {
   "cell_type": "code",
   "execution_count": 8,
   "id": "a635135f-8590-495c-a471-369de05a2594",
   "metadata": {},
   "outputs": [],
   "source": [
    "liste = [1,2,3,5,\"abc\",\"a\",True]\n",
    "def listedekiStrFiltrele():\n",
    "    for i in liste:\n",
    "        return [*filter(lambda x: x  if type(x) == str else None, liste)]\n",
    "        "
   ]
  },
  {
   "cell_type": "code",
   "execution_count": 9,
   "id": "0d21ad59-5768-4f5b-ba1c-0d3128b74e9f",
   "metadata": {},
   "outputs": [
    {
     "data": {
      "text/plain": [
       "['abc', 'a']"
      ]
     },
     "execution_count": 9,
     "metadata": {},
     "output_type": "execute_result"
    }
   ],
   "source": [
    "listedekiStrFiltrele()"
   ]
  },
  {
   "cell_type": "code",
   "execution_count": 10,
   "id": "04915e19-39b4-4646-a587-2176c854efbf",
   "metadata": {},
   "outputs": [],
   "source": [
    "liste = [1000000,90000000,15000000]\n",
    "def paradanAltiSifirAtma():\n",
    "    for i in liste:\n",
    "        return [*map(lambda i: int(i/1000000), liste)]"
   ]
  },
  {
   "cell_type": "code",
   "execution_count": 11,
   "id": "1c2e7df0-616c-4050-8bcf-cf0ece498c21",
   "metadata": {},
   "outputs": [
    {
     "data": {
      "text/plain": [
       "[1, 90, 15]"
      ]
     },
     "execution_count": 11,
     "metadata": {},
     "output_type": "execute_result"
    }
   ],
   "source": [
    "paradanAltiSifirAtma()"
   ]
  },
  {
   "cell_type": "code",
   "execution_count": 12,
   "id": "87a1e024-3d74-4e30-91f0-473877a536fc",
   "metadata": {},
   "outputs": [],
   "source": [
    "def zamanVerisiAl():\n",
    "    saat = input(\"Saat giriniz: \")\n",
    "    if saat.isdigit():\n",
    "        saat = int(saat)\n",
    "        if ((saat>=0) and (saat<24)):\n",
    "            dakika = input(\"dakika giriniz: \")\n",
    "            if dakika.isdigit():\n",
    "                dakika = int(dakika)\n",
    "                if ((dakika>=0) and (dakika<24)):\n",
    "                        return f\"Giriş yapılan zaman {saat}:{dakika}\"\n",
    "                else:\n",
    "                    return \"Girilen dakika aralığı yanlıştır.\"\n",
    "            else:\n",
    "                return \"Girilen dakika yanlış veri tipinde.\"\n",
    "        else:\n",
    "            return \"Girilen saat aralığı yanlıştır.\"\n",
    "    else:\n",
    "        return \"Girilen saat yanlış veri tipinde.\""
   ]
  },
  {
   "cell_type": "code",
   "execution_count": 14,
   "id": "619d3c14-c653-4589-95c9-5388e2bc4303",
   "metadata": {},
   "outputs": [
    {
     "name": "stdin",
     "output_type": "stream",
     "text": [
      "Saat giriniz:  3\n",
      "dakika giriniz:  14\n"
     ]
    },
    {
     "data": {
      "text/plain": [
       "'Giriş yapılan zaman 3:14'"
      ]
     },
     "execution_count": 14,
     "metadata": {},
     "output_type": "execute_result"
    }
   ],
   "source": [
    "zamanVerisiAl()"
   ]
  }
 ],
 "metadata": {
  "kernelspec": {
   "display_name": "Python 3 (ipykernel)",
   "language": "python",
   "name": "python3"
  },
  "language_info": {
   "codemirror_mode": {
    "name": "ipython",
    "version": 3
   },
   "file_extension": ".py",
   "mimetype": "text/x-python",
   "name": "python",
   "nbconvert_exporter": "python",
   "pygments_lexer": "ipython3",
   "version": "3.9.6"
  }
 },
 "nbformat": 4,
 "nbformat_minor": 5
}
