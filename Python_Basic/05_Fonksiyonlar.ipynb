{
 "cells": [
  {
   "cell_type": "markdown",
   "id": "2593227f-12ba-48f4-932c-5991eda45b8e",
   "metadata": {},
   "source": [
    "### **Fonksiyon Yapısı**"
   ]
  },
  {
   "cell_type": "raw",
   "id": "2c4f577e-e3fb-4c04-8e2a-6314a10836aa",
   "metadata": {},
   "source": [
    "def <fonksiyon_ismi>(<argümanlar>): # snake_case\n",
    "    \"\"\"\n",
    "    Bu kod ne işe yarar             # docstring\n",
    "    \"\"\"\n",
    "    ...                             # return/print"
   ]
  },
  {
   "cell_type": "code",
   "execution_count": 1,
   "id": "dfe68629-6c51-45be-b89e-4789f56c9833",
   "metadata": {},
   "outputs": [
    {
     "name": "stdout",
     "output_type": "stream",
     "text": [
      "5\n"
     ]
    }
   ],
   "source": [
    "def degeriBastir():\n",
    "    print(5)\n",
    "degeriBastir()"
   ]
  },
  {
   "cell_type": "markdown",
   "id": "e1cca48d-0f72-4440-badf-49051ee6a8e7",
   "metadata": {},
   "source": [
    "#### **Fonksiyonlarda print ve return farkı**"
   ]
  },
  {
   "cell_type": "code",
   "execution_count": 2,
   "id": "1e5c73ce-5e18-4b07-894f-707394a09e1c",
   "metadata": {},
   "outputs": [
    {
     "data": {
      "text/plain": [
       "5"
      ]
     },
     "execution_count": 2,
     "metadata": {},
     "output_type": "execute_result"
    }
   ],
   "source": [
    "def degerDondur():\n",
    "    return 5\n",
    "degerDondur()"
   ]
  },
  {
   "cell_type": "code",
   "execution_count": 3,
   "id": "6c867282-30fe-43de-9e81-8542bbab8772",
   "metadata": {},
   "outputs": [
    {
     "name": "stdout",
     "output_type": "stream",
     "text": [
      "5\n",
      "None\n"
     ]
    }
   ],
   "source": [
    "a = degeriBastir()\n",
    "print(a)"
   ]
  },
  {
   "cell_type": "code",
   "execution_count": 4,
   "id": "d213d3e5-3ba7-4287-81b8-3d517bbb35d1",
   "metadata": {},
   "outputs": [
    {
     "name": "stdout",
     "output_type": "stream",
     "text": [
      "5\n"
     ]
    }
   ],
   "source": [
    "b = degerDondur()\n",
    "print(b)"
   ]
  },
  {
   "cell_type": "markdown",
   "id": "6f170363-f727-4b60-9fef-90e8d009d216",
   "metadata": {},
   "source": [
    "#### **Fonksiyonlarda Argümanlar**"
   ]
  },
  {
   "cell_type": "code",
   "execution_count": 5,
   "id": "14311067-0296-449a-b8bd-4fff72ee40d4",
   "metadata": {},
   "outputs": [
    {
     "data": {
      "text/plain": [
       "7"
      ]
     },
     "execution_count": 5,
     "metadata": {},
     "output_type": "execute_result"
    }
   ],
   "source": [
    "def sayiDondur(sayi):\n",
    "    return sayi\n",
    "sayiDondur(7)"
   ]
  },
  {
   "cell_type": "code",
   "execution_count": 6,
   "id": "9a8589ee-6ffd-4a18-8fb8-e41177a56131",
   "metadata": {},
   "outputs": [
    {
     "data": {
      "text/plain": [
       "250"
      ]
     },
     "execution_count": 6,
     "metadata": {},
     "output_type": "execute_result"
    }
   ],
   "source": [
    "# Default değer döndürme\n",
    "def sayiDondur(sayi=250):\n",
    "    return sayi\n",
    "sayiDondur()"
   ]
  },
  {
   "cell_type": "code",
   "execution_count": 7,
   "id": "926a3f73-dbd9-416c-a42a-8ca00bd42a8f",
   "metadata": {},
   "outputs": [
    {
     "data": {
      "text/plain": [
       "5"
      ]
     },
     "execution_count": 7,
     "metadata": {},
     "output_type": "execute_result"
    }
   ],
   "source": [
    "def buyukSayiDondur(a, b):\n",
    "    return a\n",
    "    return b\n",
    "buyukSayiDondur(5,8)"
   ]
  },
  {
   "cell_type": "code",
   "execution_count": 8,
   "id": "471e1922-36d3-4f68-b639-0182c9b86f98",
   "metadata": {},
   "outputs": [
    {
     "data": {
      "text/plain": [
       "8"
      ]
     },
     "execution_count": 8,
     "metadata": {},
     "output_type": "execute_result"
    }
   ],
   "source": [
    "def buyukSayiDondur(a, b):\n",
    "    if a > b:\n",
    "        return a\n",
    "    else:\n",
    "        return b\n",
    "buyukSayiDondur(5,8)"
   ]
  },
  {
   "cell_type": "markdown",
   "id": "4060a8cf-0007-4c50-9db8-64decdd804ed",
   "metadata": {},
   "source": [
    "#### **Fonksiyonların Birbiri ile İlişkisi**"
   ]
  },
  {
   "cell_type": "code",
   "execution_count": 9,
   "id": "7f43cd4c-17ae-4b08-85fd-711d9756573d",
   "metadata": {},
   "outputs": [
    {
     "name": "stdout",
     "output_type": "stream",
     "text": [
      "10 daha büyük sayıdır.\n"
     ]
    }
   ],
   "source": [
    "def metinYazdir(a, b):\n",
    "    buyukSayi = buyukSayiDondur(a,b)\n",
    "    sablonMetin = f\"{buyukSayi} daha büyük sayıdır.\" \n",
    "    print(sablonMetin)\n",
    "metinYazdir(10,8)"
   ]
  },
  {
   "cell_type": "markdown",
   "id": "08c994c0-1d66-4d2e-bf39-1c12ca8a7202",
   "metadata": {
    "tags": []
   },
   "source": [
    "#### **Fonksiyonlar Birden Fazla Sonuç Döndürebilir**"
   ]
  },
  {
   "cell_type": "code",
   "execution_count": 10,
   "id": "75fe7da7-6971-4e2c-9324-eb3982b24826",
   "metadata": {},
   "outputs": [
    {
     "data": {
      "text/plain": [
       "('İbrahim', 'Rona')"
      ]
     },
     "execution_count": 10,
     "metadata": {},
     "output_type": "execute_result"
    }
   ],
   "source": [
    "def isimSoyisimAyirma(isim_soyisim):\n",
    "    isim= isim_soyisim.split()[0]\n",
    "    soy_isim= isim_soyisim.split()[1]\n",
    "    return isim, soy_isim\n",
    "isimSoyisimAyirma(\"İbrahim Rona\")"
   ]
  },
  {
   "cell_type": "code",
   "execution_count": 11,
   "id": "22a4c0a2-c071-44d3-8eef-a63d684de1e2",
   "metadata": {},
   "outputs": [
    {
     "name": "stdout",
     "output_type": "stream",
     "text": [
      "İbrahim\n",
      "Rona\n"
     ]
    }
   ],
   "source": [
    "a, b = isimSoyisimAyirma(\"İbrahim Rona\")\n",
    "print(a)\n",
    "print(b)"
   ]
  },
  {
   "cell_type": "markdown",
   "id": "ccd15d34-8dc1-4e0a-b017-c0a34ae05e19",
   "metadata": {},
   "source": [
    "#### ***args Argümanı**"
   ]
  },
  {
   "cell_type": "code",
   "execution_count": 12,
   "id": "4f748225-3fc5-4d0f-a617-8a68c094911b",
   "metadata": {},
   "outputs": [
    {
     "data": {
      "text/plain": [
       "'İbrahim Ethem'"
      ]
     },
     "execution_count": 12,
     "metadata": {},
     "output_type": "execute_result"
    }
   ],
   "source": [
    "def isimSoyisimBirlestir(isim,soyisim):\n",
    "    return \" \".join([isim, soyisim])\n",
    "isimSoyisimBirlestir(\"İbrahim\",\"Ethem\")"
   ]
  },
  {
   "cell_type": "code",
   "execution_count": 13,
   "id": "2a2af25e-fd51-4626-b1cd-d09ed446b574",
   "metadata": {},
   "outputs": [
    {
     "ename": "TypeError",
     "evalue": "isimSoyisimBirlestir() takes 2 positional arguments but 3 were given",
     "output_type": "error",
     "traceback": [
      "\u001b[1;31m---------------------------------------------------------------------------\u001b[0m",
      "\u001b[1;31mTypeError\u001b[0m                                 Traceback (most recent call last)",
      "\u001b[1;32m~\\AppData\\Local\\Temp/ipykernel_16396/1597645050.py\u001b[0m in \u001b[0;36m<module>\u001b[1;34m\u001b[0m\n\u001b[0;32m      1\u001b[0m \u001b[1;32mdef\u001b[0m \u001b[0misimSoyisimBirlestir\u001b[0m\u001b[1;33m(\u001b[0m\u001b[0misim\u001b[0m\u001b[1;33m,\u001b[0m\u001b[0msoyisim\u001b[0m\u001b[1;33m)\u001b[0m\u001b[1;33m:\u001b[0m\u001b[1;33m\u001b[0m\u001b[1;33m\u001b[0m\u001b[0m\n\u001b[0;32m      2\u001b[0m     \u001b[1;32mreturn\u001b[0m \u001b[1;34m\" \"\u001b[0m\u001b[1;33m.\u001b[0m\u001b[0mjoin\u001b[0m\u001b[1;33m(\u001b[0m\u001b[1;33m[\u001b[0m\u001b[0misim\u001b[0m\u001b[1;33m,\u001b[0m \u001b[0msoyisim\u001b[0m\u001b[1;33m]\u001b[0m\u001b[1;33m)\u001b[0m\u001b[1;33m\u001b[0m\u001b[1;33m\u001b[0m\u001b[0m\n\u001b[1;32m----> 3\u001b[1;33m \u001b[0misimSoyisimBirlestir\u001b[0m\u001b[1;33m(\u001b[0m\u001b[1;34m\"İbrahim\"\u001b[0m\u001b[1;33m,\u001b[0m\u001b[1;34m\"Ethem\"\u001b[0m\u001b[1;33m,\u001b[0m\u001b[1;34m\"Rona\"\u001b[0m\u001b[1;33m)\u001b[0m\u001b[1;33m\u001b[0m\u001b[1;33m\u001b[0m\u001b[0m\n\u001b[0m",
      "\u001b[1;31mTypeError\u001b[0m: isimSoyisimBirlestir() takes 2 positional arguments but 3 were given"
     ]
    }
   ],
   "source": [
    "def isimSoyisimBirlestir(isim,soyisim):\n",
    "    return \" \".join([isim, soyisim])\n",
    "isimSoyisimBirlestir(\"İbrahim\",\"Ethem\",\"Rona\")"
   ]
  },
  {
   "cell_type": "code",
   "execution_count": 14,
   "id": "686ff233-2b92-44ca-9a0c-f757181c19ae",
   "metadata": {},
   "outputs": [
    {
     "data": {
      "text/plain": [
       "'İbrahim Ethem Rona'"
      ]
     },
     "execution_count": 14,
     "metadata": {},
     "output_type": "execute_result"
    }
   ],
   "source": [
    "def isimSoyisimBirlestir(*args):\n",
    "    return \" \".join(args)\n",
    "isimSoyisimBirlestir(\"İbrahim\",\"Ethem\",\"Rona\")"
   ]
  },
  {
   "cell_type": "code",
   "execution_count": 15,
   "id": "5ae8578d-a02d-47c0-9d35-3c2241a71110",
   "metadata": {},
   "outputs": [
    {
     "name": "stdout",
     "output_type": "stream",
     "text": [
      "Ethem\n"
     ]
    }
   ],
   "source": [
    "def gobekAdi(**kwargs):\n",
    "    if \"gobekadi\" in kwargs:\n",
    "        print(kwargs[\"gobekadi\"])\n",
    "    else:\n",
    "        print(\"Göbek adı yoktur.\")\n",
    "gobekAdi(adi = \"İbrahim\", soyadi=\"RONA\", gobekadi = \"Ethem\")"
   ]
  },
  {
   "cell_type": "code",
   "execution_count": 16,
   "id": "93848212-3e7f-4003-a444-d272332460b9",
   "metadata": {},
   "outputs": [
    {
     "name": "stdout",
     "output_type": "stream",
     "text": [
      "Göbek adı yoktur.\n"
     ]
    }
   ],
   "source": [
    "gobekAdi(adi = \"İbrahim\", soyadi=\"RONA\")"
   ]
  },
  {
   "cell_type": "markdown",
   "id": "6beb0fb9-67e5-4ed4-9281-5d4032881050",
   "metadata": {},
   "source": [
    " #### **map, filter ve lambda Expressions**"
   ]
  },
  {
   "cell_type": "code",
   "execution_count": 17,
   "id": "9b648586-17b8-4cdc-97d8-42f1cdb27d11",
   "metadata": {},
   "outputs": [
    {
     "data": {
      "text/plain": [
       "4"
      ]
     },
     "execution_count": 17,
     "metadata": {},
     "output_type": "execute_result"
    }
   ],
   "source": [
    "def kareAlma(x):\n",
    "    return x**2\n",
    "kareAlma(2)"
   ]
  },
  {
   "cell_type": "code",
   "execution_count": 18,
   "id": "918bd4e3-a438-4a8c-b127-71de1fb6835a",
   "metadata": {},
   "outputs": [
    {
     "name": "stdout",
     "output_type": "stream",
     "text": [
      "[1, 2, 3, 4, 5]\n",
      "[1, 4, 9, 16, 25]\n"
     ]
    }
   ],
   "source": [
    "sayilar  = [*range(1,6)]\n",
    "print(sayilar)\n",
    "for i in range(len(sayilar)):\n",
    "    sayilar[i] = kareAlma(sayilar[i])\n",
    "print(sayilar)"
   ]
  },
  {
   "cell_type": "code",
   "execution_count": 19,
   "id": "5ffa3d0c-bf78-4008-848e-1153ebba57b2",
   "metadata": {},
   "outputs": [
    {
     "data": {
      "text/plain": [
       "[1, 4, 9, 16, 25]"
      ]
     },
     "execution_count": 19,
     "metadata": {},
     "output_type": "execute_result"
    }
   ],
   "source": [
    "sayilar  = [*range(1,6)]\n",
    "[*map(kareAlma, sayilar)]"
   ]
  },
  {
   "cell_type": "code",
   "execution_count": 20,
   "id": "3e3cc701-9994-4de8-bc17-d6407566be87",
   "metadata": {},
   "outputs": [],
   "source": [
    "def ciftSayi(a):\n",
    "    return a if a%2==0 else None"
   ]
  },
  {
   "cell_type": "code",
   "execution_count": 21,
   "id": "83f53b6b-38ce-4ac6-ae4d-6f6ef35b6687",
   "metadata": {},
   "outputs": [
    {
     "data": {
      "text/plain": [
       "[2, 4, 6, 8]"
      ]
     },
     "execution_count": 21,
     "metadata": {},
     "output_type": "execute_result"
    }
   ],
   "source": [
    "sayilar = [*range(1,10)]\n",
    "[*filter(ciftSayi,sayilar)]"
   ]
  },
  {
   "cell_type": "code",
   "execution_count": 22,
   "id": "b5a6b935-e81c-45a2-99da-d3299d67437d",
   "metadata": {},
   "outputs": [
    {
     "data": {
      "text/plain": [
       "[1, 4, 9, 16, 25, 36, 49, 64, 81]"
      ]
     },
     "execution_count": 22,
     "metadata": {},
     "output_type": "execute_result"
    }
   ],
   "source": [
    "[*map(lambda sayi: sayi**2, sayilar)]"
   ]
  },
  {
   "cell_type": "code",
   "execution_count": 23,
   "id": "85c523aa-76c2-4baf-aa6e-f84342d330d3",
   "metadata": {},
   "outputs": [
    {
     "data": {
      "text/plain": [
       "[2, 4, 6, 8]"
      ]
     },
     "execution_count": 23,
     "metadata": {},
     "output_type": "execute_result"
    }
   ],
   "source": [
    "[*filter(lambda sayi:sayi if sayi%2==0 else None, sayilar)]"
   ]
  },
  {
   "cell_type": "code",
   "execution_count": 24,
   "id": "7fe55c1b-bfd8-4ffc-a781-8b6175ec5bb5",
   "metadata": {},
   "outputs": [
    {
     "data": {
      "text/plain": [
       "9"
      ]
     },
     "execution_count": 24,
     "metadata": {},
     "output_type": "execute_result"
    }
   ],
   "source": [
    "def toplamaIslemi(a):\n",
    "    return a+a-1\n",
    "toplamaIslemi(5)"
   ]
  },
  {
   "cell_type": "code",
   "execution_count": 25,
   "id": "3b87f1ae-70dd-42f3-bc0d-7e2b0158ae83",
   "metadata": {},
   "outputs": [
    {
     "name": "stdout",
     "output_type": "stream",
     "text": [
      "[1, 3, 5, 7, 9, 11, 13, 15, 17]\n"
     ]
    }
   ],
   "source": [
    "sayilar = [*range(1,10)]\n",
    "for i in range(len(sayilar)):\n",
    "    sayilar[i] = toplamaIslemi(sayilar[i])\n",
    "print(sayilar)"
   ]
  },
  {
   "cell_type": "code",
   "execution_count": 26,
   "id": "4a18180d-93b5-410b-a2de-7b92264d9d1d",
   "metadata": {},
   "outputs": [
    {
     "data": {
      "text/plain": [
       "[1, 5, 9, 13, 17, 21, 25, 29, 33]"
      ]
     },
     "execution_count": 26,
     "metadata": {},
     "output_type": "execute_result"
    }
   ],
   "source": [
    "aList = [*map(toplamaIslemi,sayilar)]\n",
    "aList"
   ]
  },
  {
   "cell_type": "code",
   "execution_count": 27,
   "id": "7d4eacdc-d03c-4e1b-a955-6decccc6923f",
   "metadata": {},
   "outputs": [],
   "source": [
    "def buyukMu(a):\n",
    "    return a if a > 20 else None"
   ]
  },
  {
   "cell_type": "code",
   "execution_count": 28,
   "id": "3f73a650-acfe-4866-a73c-f9a6210116c2",
   "metadata": {},
   "outputs": [
    {
     "data": {
      "text/plain": [
       "[21, 25, 29, 33]"
      ]
     },
     "execution_count": 28,
     "metadata": {},
     "output_type": "execute_result"
    }
   ],
   "source": [
    "[*filter(buyukMu,aList)]"
   ]
  },
  {
   "cell_type": "markdown",
   "id": "50eabd4b-4736-4467-ae87-dc193af29a09",
   "metadata": {},
   "source": [
    "#### **Kullanıcı Girdisi**"
   ]
  },
  {
   "cell_type": "code",
   "execution_count": 31,
   "id": "bb10db2b-f497-4df4-851d-c478dd4c8880",
   "metadata": {},
   "outputs": [
    {
     "name": "stdin",
     "output_type": "stream",
     "text": [
      "Bir sayı girin:  21\n"
     ]
    },
    {
     "name": "stdout",
     "output_type": "stream",
     "text": [
      "21\n",
      "<class 'str'>\n"
     ]
    }
   ],
   "source": [
    "girdi = input(\"Bir sayı girin: \")\n",
    "print(girdi)\n",
    "print(type(girdi))"
   ]
  },
  {
   "cell_type": "code",
   "execution_count": 32,
   "id": "38269515-9841-4186-9905-521d8948dd9c",
   "metadata": {},
   "outputs": [
    {
     "name": "stdin",
     "output_type": "stream",
     "text": [
      "Bir sayı giriniz:  21\n"
     ]
    },
    {
     "name": "stdout",
     "output_type": "stream",
     "text": [
      "21\n",
      "<class 'int'>\n"
     ]
    }
   ],
   "source": [
    "girdi = int(input(\"Bir sayı giriniz: \"))\n",
    "print(girdi)\n",
    "print(type(girdi))"
   ]
  },
  {
   "cell_type": "code",
   "execution_count": 33,
   "id": "555d4d5b-f657-4182-b098-e87e0308746c",
   "metadata": {},
   "outputs": [],
   "source": [
    "def uygulama():\n",
    "    girdi = input(\"Sayı giriniz: \")\n",
    "    try: \n",
    "        girdi = int(girdi)\n",
    "        if girdi % 2 == 0:\n",
    "            print(\"Sayı çifttir.\")\n",
    "        elif girdi % 2 == 1:\n",
    "            print(\"Sayı tektir.\")\n",
    "    except:\n",
    "            print(\"Yanlış karakter girdiniz.\")"
   ]
  },
  {
   "cell_type": "code",
   "execution_count": 34,
   "id": "50e2b8db-136c-44d1-ad60-c170e3cd6968",
   "metadata": {},
   "outputs": [
    {
     "name": "stdin",
     "output_type": "stream",
     "text": [
      "Sayı giriniz:  asd\n"
     ]
    },
    {
     "name": "stdout",
     "output_type": "stream",
     "text": [
      "Yanlış karakter girdiniz.\n"
     ]
    }
   ],
   "source": [
    "uygulama()"
   ]
  },
  {
   "cell_type": "markdown",
   "id": "b3a14697-ba87-4f06-8431-d2405e721c65",
   "metadata": {},
   "source": [
    "#### **Kullanıcı girdisi onaylamak**"
   ]
  },
  {
   "cell_type": "code",
   "execution_count": 35,
   "id": "357b144f-3ff9-42e4-9feb-43fedb396e1b",
   "metadata": {},
   "outputs": [],
   "source": [
    "def sayiGirdisiKontrol():\n",
    "    girdi = input(\"Sayı giriniz: \")\n",
    "    \n",
    "    if girdi.isdigit():\n",
    "        print(\"Sayı tipi değişken.\")\n",
    "    else:\n",
    "        print(\"Sayı tipli değişken değildir.\")"
   ]
  },
  {
   "cell_type": "code",
   "execution_count": 36,
   "id": "c852d167-b699-4351-9f90-8e7b1932ee82",
   "metadata": {},
   "outputs": [
    {
     "name": "stdin",
     "output_type": "stream",
     "text": [
      "Sayı giriniz:  54\n"
     ]
    },
    {
     "name": "stdout",
     "output_type": "stream",
     "text": [
      "Sayı tipi değişken.\n"
     ]
    }
   ],
   "source": [
    "sayiGirdisiKontrol()"
   ]
  },
  {
   "cell_type": "code",
   "execution_count": 37,
   "id": "1903f77d-2771-4b7a-af1e-d807669d2729",
   "metadata": {},
   "outputs": [],
   "source": [
    "def sayiGirdisiKontrolDongusu():\n",
    "    girdi = input(\"Sayı giriniz: \")\n",
    "    while not girdi.isdigit():\n",
    "          print(\"Sayı tipli değişken değildir.\")\n",
    "          girdi = input(\"Sayı giriniz: \")\n",
    "    else:\n",
    "          print(\"Sayı tipi değişken.\")"
   ]
  },
  {
   "cell_type": "code",
   "execution_count": 38,
   "id": "8f020018-6d1c-419e-8f96-298fb8cfc384",
   "metadata": {},
   "outputs": [
    {
     "name": "stdin",
     "output_type": "stream",
     "text": [
      "Sayı giriniz:  ada\n"
     ]
    },
    {
     "name": "stdout",
     "output_type": "stream",
     "text": [
      "Sayı tipli değişken değildir.\n"
     ]
    },
    {
     "name": "stdin",
     "output_type": "stream",
     "text": [
      "Sayı giriniz:  asd\n"
     ]
    },
    {
     "name": "stdout",
     "output_type": "stream",
     "text": [
      "Sayı tipli değişken değildir.\n"
     ]
    },
    {
     "name": "stdin",
     "output_type": "stream",
     "text": [
      "Sayı giriniz:  asd\n"
     ]
    },
    {
     "name": "stdout",
     "output_type": "stream",
     "text": [
      "Sayı tipli değişken değildir.\n"
     ]
    },
    {
     "name": "stdin",
     "output_type": "stream",
     "text": [
      "Sayı giriniz:  21\n"
     ]
    },
    {
     "name": "stdout",
     "output_type": "stream",
     "text": [
      "Sayı tipi değişken.\n"
     ]
    }
   ],
   "source": [
    "sayiGirdisiKontrolDongusu()"
   ]
  },
  {
   "cell_type": "code",
   "execution_count": 39,
   "id": "51b061cb-0dcd-4f5b-84fe-41c8f2ece9d4",
   "metadata": {},
   "outputs": [],
   "source": [
    "def ePostaKontrol():\n",
    "    girdi = input(\"Geçerli bir e-posta adresi giriniz: \")\n",
    "    while not ((\".\" in girdi) and (\"@\" in girdi)):\n",
    "        print(\"Hatalı e-posta girdiniz.\")\n",
    "        girdi = input(\"Geçerli bir e-posta adresi giriniz: \")\n",
    "    else:\n",
    "        print(\"Tebrikler e-posta adresinize başarılı giriş yaptınız.\")"
   ]
  },
  {
   "cell_type": "code",
   "execution_count": 40,
   "id": "628a53ea-e763-4158-9b4b-bb7dc2f7c605",
   "metadata": {},
   "outputs": [
    {
     "name": "stdin",
     "output_type": "stream",
     "text": [
      "Geçerli bir e-posta adresi giriniz:  asd\n"
     ]
    },
    {
     "name": "stdout",
     "output_type": "stream",
     "text": [
      "Hatalı e-posta girdiniz.\n"
     ]
    },
    {
     "name": "stdin",
     "output_type": "stream",
     "text": [
      "Geçerli bir e-posta adresi giriniz:  asd\n"
     ]
    },
    {
     "name": "stdout",
     "output_type": "stream",
     "text": [
      "Hatalı e-posta girdiniz.\n"
     ]
    },
    {
     "name": "stdin",
     "output_type": "stream",
     "text": [
      "Geçerli bir e-posta adresi giriniz:  ibrahimethemrona@hotmail.com\n"
     ]
    },
    {
     "name": "stdout",
     "output_type": "stream",
     "text": [
      "Tebrikler e-posta adresinize başarılı giriş yaptınız.\n"
     ]
    }
   ],
   "source": [
    "ePostaKontrol()\n"
   ]
  },
  {
   "cell_type": "markdown",
   "id": "9f4908a5-af91-45bc-bae2-888e8895580c",
   "metadata": {},
   "source": [
    "#### **Try, Except ve Finally Komutları**"
   ]
  },
  {
   "cell_type": "code",
   "execution_count": 41,
   "id": "8c6a4456-6a80-4b92-af81-2d61e4fbc2e0",
   "metadata": {},
   "outputs": [
    {
     "data": {
      "text/plain": [
       "2"
      ]
     },
     "execution_count": 41,
     "metadata": {},
     "output_type": "execute_result"
    }
   ],
   "source": [
    "round(1.6)"
   ]
  },
  {
   "cell_type": "code",
   "execution_count": 42,
   "id": "b12b3b40-6e43-4586-a492-91bcade9cc48",
   "metadata": {},
   "outputs": [],
   "source": [
    "def tamSayiCevir():\n",
    "    girdi = input(\"Bir ondalık sayı giriniz: \")\n",
    "    print(f\"Yuvarlama işleminin sonucu: {round(float(girdi))}\")"
   ]
  },
  {
   "cell_type": "code",
   "execution_count": 43,
   "id": "863a51be-d89d-4169-bf44-94d45b2e46c2",
   "metadata": {},
   "outputs": [
    {
     "name": "stdin",
     "output_type": "stream",
     "text": [
      "Bir ondalık sayı giriniz:  1.7\n"
     ]
    },
    {
     "name": "stdout",
     "output_type": "stream",
     "text": [
      "Yuvarlama işleminin sonucu: 2\n"
     ]
    }
   ],
   "source": [
    "tamSayiCevir()"
   ]
  },
  {
   "cell_type": "code",
   "execution_count": 44,
   "id": "18da12a4-8086-4d56-837b-047dcd51e6d7",
   "metadata": {},
   "outputs": [],
   "source": [
    "def tamSayiCevir():\n",
    "    girdi = input(\"Bir ondalık sayı giriniz: \")\n",
    "    try:\n",
    "        girdi = float(girdi)\n",
    "        print(f\"Yuvarlama işleminin sonucu: {round(girdi)}\")\n",
    "    except: \n",
    "        print(f\"{girdi} girdisi ondalık tipe çevrilmiyor.\")"
   ]
  },
  {
   "cell_type": "code",
   "execution_count": 45,
   "id": "c6a5a15c-75c8-455f-8ad5-6a0f69d12a8e",
   "metadata": {},
   "outputs": [
    {
     "name": "stdin",
     "output_type": "stream",
     "text": [
      "Bir ondalık sayı giriniz:  2\n"
     ]
    },
    {
     "name": "stdout",
     "output_type": "stream",
     "text": [
      "Yuvarlama işleminin sonucu: 2\n"
     ]
    }
   ],
   "source": [
    "tamSayiCevir()"
   ]
  },
  {
   "cell_type": "code",
   "execution_count": 46,
   "id": "fdd947c0-1777-4f27-85af-59f6dba3e818",
   "metadata": {},
   "outputs": [],
   "source": [
    "def tamSayiCevir():\n",
    "    girdi = input(\"Bir ondalık sayı giriniz: \")\n",
    "    \n",
    "    statu = \" \"\n",
    "    try:\n",
    "        girdi = float(girdi)\n",
    "        print(f\"Yuvarlama işleminin sonucu: {round(girdi)}\")\n",
    "        statu = \"Başarılı\"\n",
    "    except: \n",
    "        print(f\"{girdi} girdisi ondalık tipe çevrilmiyor.\")\n",
    "        statu = \"Başarısız\"\n",
    "    finally:\n",
    "        print(f\"Tam sayıya çevirme işlemi {statu} olarak tamamlandı. \")"
   ]
  },
  {
   "cell_type": "code",
   "execution_count": 47,
   "id": "0a0aa068-3576-4f74-9435-c72c149365b6",
   "metadata": {},
   "outputs": [
    {
     "name": "stdin",
     "output_type": "stream",
     "text": [
      "Bir ondalık sayı giriniz:  12.5\n"
     ]
    },
    {
     "name": "stdout",
     "output_type": "stream",
     "text": [
      "Yuvarlama işleminin sonucu: 12\n",
      "Tam sayıya çevirme işlemi Başarılı olarak tamamlandı. \n"
     ]
    }
   ],
   "source": [
    "tamSayiCevir()"
   ]
  },
  {
   "cell_type": "code",
   "execution_count": 48,
   "id": "13764eca-777a-405c-a703-e343873f5a1a",
   "metadata": {},
   "outputs": [],
   "source": [
    "def tamSayiCevirDongu():\n",
    "    while True:\n",
    "        girdi = input(\"Bir ondalık sayı giriniz: \")\n",
    "        try:\n",
    "            girdi = float(girdi)\n",
    "            print(f\"Yuvarlama işleminin sonucu: {round(girdi)}\")\n",
    "            break\n",
    "        except: \n",
    "            print(f\"{girdi} girdisi ondalık tipe çevrilmiyor.\")\n",
    "            pass"
   ]
  },
  {
   "cell_type": "code",
   "execution_count": 49,
   "id": "5b82d641-5a91-4e09-9cab-be36b017c98f",
   "metadata": {},
   "outputs": [
    {
     "name": "stdin",
     "output_type": "stream",
     "text": [
      "Bir ondalık sayı giriniz:  asd\n"
     ]
    },
    {
     "name": "stdout",
     "output_type": "stream",
     "text": [
      "asd girdisi ondalık tipe çevrilmiyor.\n"
     ]
    },
    {
     "name": "stdin",
     "output_type": "stream",
     "text": [
      "Bir ondalık sayı giriniz:  asd\n"
     ]
    },
    {
     "name": "stdout",
     "output_type": "stream",
     "text": [
      "asd girdisi ondalık tipe çevrilmiyor.\n"
     ]
    },
    {
     "name": "stdin",
     "output_type": "stream",
     "text": [
      "Bir ondalık sayı giriniz:  asd\n"
     ]
    },
    {
     "name": "stdout",
     "output_type": "stream",
     "text": [
      "asd girdisi ondalık tipe çevrilmiyor.\n"
     ]
    },
    {
     "name": "stdin",
     "output_type": "stream",
     "text": [
      "Bir ondalık sayı giriniz:  15.9\n"
     ]
    },
    {
     "name": "stdout",
     "output_type": "stream",
     "text": [
      "Yuvarlama işleminin sonucu: 16\n"
     ]
    }
   ],
   "source": [
    "tamSayiCevirDongu()"
   ]
  },
  {
   "cell_type": "code",
   "execution_count": 50,
   "id": "d0dbfa65-e404-4441-8064-26e431499e16",
   "metadata": {},
   "outputs": [
    {
     "name": "stdout",
     "output_type": "stream",
     "text": [
      "int ile str toplanmaz.\n"
     ]
    }
   ],
   "source": [
    "try:\n",
    "    5 + \"a\"\n",
    "except TypeError:\n",
    "    print(\"int ile str toplanmaz.\")"
   ]
  },
  {
   "cell_type": "code",
   "execution_count": 51,
   "id": "98dd7d26-c26f-4112-bfaf-d92c02d4e3e9",
   "metadata": {},
   "outputs": [
    {
     "name": "stdout",
     "output_type": "stream",
     "text": [
      "sıfıra bölünmez\n"
     ]
    }
   ],
   "source": [
    "try:\n",
    "    5/0\n",
    "except ZeroDivisionError:\n",
    "    print(\"sıfıra bölünmez\")"
   ]
  },
  {
   "cell_type": "code",
   "execution_count": 52,
   "id": "e03f8702-143a-47fe-a9fc-350ea588bffb",
   "metadata": {},
   "outputs": [
    {
     "name": "stdout",
     "output_type": "stream",
     "text": [
      "Kod düzgün çalışmıyor.\n"
     ]
    }
   ],
   "source": [
    "try:\n",
    "    5 + \"a\"\n",
    "except IndexError:\n",
    "    print(\"int ile str toplanmaz.\")\n",
    "except:\n",
    "    print(\"Kod düzgün çalışmıyor.\")"
   ]
  },
  {
   "cell_type": "code",
   "execution_count": 53,
   "id": "fe84c6a3-71df-45f6-9c5a-34c4689e2287",
   "metadata": {},
   "outputs": [
    {
     "name": "stdout",
     "output_type": "stream",
     "text": [
      "Verilen indeks numarası listede yoktur.\n"
     ]
    }
   ],
   "source": [
    "try:\n",
    "    liste = [1]\n",
    "    print(liste[5])\n",
    "except IndexError:\n",
    "    print(\"Verilen indeks numarası listede yoktur.\")"
   ]
  },
  {
   "cell_type": "code",
   "execution_count": 54,
   "id": "131eeb57-c50a-422f-818d-ba4b2976f218",
   "metadata": {},
   "outputs": [
    {
     "name": "stdout",
     "output_type": "stream",
     "text": [
      "Aranan sözlükte verilen anahtar değeri mevcut değildir\n"
     ]
    }
   ],
   "source": [
    "vatandas = {\n",
    "    \"isim\":\"İbrahim\",\n",
    "    \"k_No\": 12548745622\n",
    "}\n",
    "try:\n",
    "    print(vatandas[\"p_No\"])\n",
    "except IndexError:\n",
    "    print(\"Verilen indeks numarası listede yoktur.\")\n",
    "except KeyError:\n",
    "    print(\"Aranan sözlükte verilen anahtar değeri mevcut değildir\")\n",
    "except:\n",
    "    print(\"Kod düzgün çalışmıyor.\")"
   ]
  }
 ],
 "metadata": {
  "kernelspec": {
   "display_name": "Python 3 (ipykernel)",
   "language": "python",
   "name": "python3"
  },
  "language_info": {
   "codemirror_mode": {
    "name": "ipython",
    "version": 3
   },
   "file_extension": ".py",
   "mimetype": "text/x-python",
   "name": "python",
   "nbconvert_exporter": "python",
   "pygments_lexer": "ipython3",
   "version": "3.9.6"
  }
 },
 "nbformat": 4,
 "nbformat_minor": 5
}
