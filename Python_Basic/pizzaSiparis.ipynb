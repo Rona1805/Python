{
 "cells": [
  {
   "cell_type": "code",
   "execution_count": 2,
   "id": "2da6ba09-54f2-4115-9500-f204578068e7",
   "metadata": {},
   "outputs": [],
   "source": [
    "import time\n",
    "import datetime\n",
    "pizzaSozluk = {\"Küçük boy\": 10, \n",
    "               \"Orta boy\": 15, \n",
    "               \"Büyük boy\":20}\n",
    "\n",
    "pizzaTabanekle = []\n",
    "def PizzaTabanSecimi():\n",
    "  for i, (k, v) in enumerate(pizzaSozluk.items()):\n",
    "    print(f\"{i+1}. {k} taban {v} TL\")\n",
    "  tabanSecimi = True\n",
    "  toplam = 0\n",
    "  sonuc = 0\n",
    "  pizzaTabanNo = 0\n",
    "  while tabanSecimi:\n",
    "    print()\n",
    "    pizzaTabanNo = int(input(\"Pizza tabanı seciniz (cıkış yapmak icin 10'ı tuşlayınız): \"))\n",
    "    if pizzaTabanNo != 0 and pizzaTabanNo <= len(pizzaSozluk.keys()):\n",
    "      pizzaAdet = int(input(\"Pizza adeti: \"))\n",
    "      toplam = [*pizzaSozluk.values()][pizzaTabanNo - 1] * pizzaAdet\n",
    "      pizzaTabanekle.append(f\"[{[*pizzaSozluk.keys()][pizzaTabanNo - 1]} taban : {[*pizzaSozluk.values()][pizzaTabanNo - 1]} TL, {pizzaAdet} adet, toplam fiyat: {toplam}]\")\n",
    "      sonuc +=toplam\n",
    "      print(f\"{list(pizzaSozluk.keys())[pizzaTabanNo - 1]} taban {pizzaAdet} adet secilmiştir.\")\n",
    "      continue\n",
    "\n",
    "    elif pizzaTabanNo == 10:\n",
    "        time.sleep(2)\n",
    "        for index in pizzaTabanekle:\n",
    "            print(index)\n",
    "        print(f\"{datetime.datetime.now().strftime('%d.%m.%Y %X')} tarihinde siparişiniz alınmıştır. Toplam tutarınız: {sonuc} TL'dir.\")\n",
    "        break\n",
    "    else:\n",
    "        print(\"Hatalı tuşlama yaptınız.\")\n",
    "    print()\n",
    "    \n"
   ]
  },
  {
   "cell_type": "code",
   "execution_count": 3,
   "id": "1722323b-8c30-41e0-9a09-496e043a0a96",
   "metadata": {},
   "outputs": [
    {
     "name": "stdout",
     "output_type": "stream",
     "text": [
      "1. Küçük boy taban 10 TL\n",
      "2. Orta boy taban 15 TL\n",
      "3. Büyük boy taban 20 TL\n",
      "\n"
     ]
    },
    {
     "name": "stdin",
     "output_type": "stream",
     "text": [
      "Pizza tabanı seciniz (cıkış yapmak icin 10'ı tuşlayınız):  1\n",
      "Pizza adeti:  2\n"
     ]
    },
    {
     "name": "stdout",
     "output_type": "stream",
     "text": [
      "Küçük boy taban 2 adet secilmiştir.\n",
      "\n"
     ]
    },
    {
     "name": "stdin",
     "output_type": "stream",
     "text": [
      "Pizza tabanı seciniz (cıkış yapmak icin 10'ı tuşlayınız):  3\n",
      "Pizza adeti:  4\n"
     ]
    },
    {
     "name": "stdout",
     "output_type": "stream",
     "text": [
      "Büyük boy taban 4 adet secilmiştir.\n",
      "\n"
     ]
    },
    {
     "name": "stdin",
     "output_type": "stream",
     "text": [
      "Pizza tabanı seciniz (cıkış yapmak icin 10'ı tuşlayınız):  10\n"
     ]
    },
    {
     "name": "stdout",
     "output_type": "stream",
     "text": [
      "[Küçük boy taban : 10 TL, 2 adet, toplam fiyat: 20]\n",
      "[Büyük boy taban : 20 TL, 4 adet, toplam fiyat: 80]\n",
      "28.03.2023 14:29:16 tarihinde siparişiniz alınmıştır. Toplam tutarınız: 100 TL'dir.\n"
     ]
    }
   ],
   "source": [
    "PizzaTabanSecimi()"
   ]
  },
  {
   "cell_type": "code",
   "execution_count": null,
   "id": "31e89fc0-943a-48b1-8bd3-61c904badfc0",
   "metadata": {},
   "outputs": [],
   "source": []
  }
 ],
 "metadata": {
  "kernelspec": {
   "display_name": "Python 3 (ipykernel)",
   "language": "python",
   "name": "python3"
  },
  "language_info": {
   "codemirror_mode": {
    "name": "ipython",
    "version": 3
   },
   "file_extension": ".py",
   "mimetype": "text/x-python",
   "name": "python",
   "nbconvert_exporter": "python",
   "pygments_lexer": "ipython3",
   "version": "3.9.6"
  }
 },
 "nbformat": 4,
 "nbformat_minor": 5
}
