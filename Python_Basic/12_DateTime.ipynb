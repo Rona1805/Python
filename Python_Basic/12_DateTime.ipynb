{
 "cells": [
  {
   "cell_type": "code",
   "execution_count": 1,
   "id": "80cc7736-138c-4d42-8f72-0c0fd84daab6",
   "metadata": {},
   "outputs": [],
   "source": [
    "import datetime"
   ]
  },
  {
   "cell_type": "markdown",
   "id": "f7df9bab-0d23-4a7a-9ae7-9bf1f038c0a7",
   "metadata": {},
   "source": [
    "### **datetime.date**"
   ]
  },
  {
   "cell_type": "code",
   "execution_count": 2,
   "id": "356935cf-e1c5-4bd0-88a0-907a52257b6f",
   "metadata": {},
   "outputs": [],
   "source": [
    "from datetime import date"
   ]
  },
  {
   "cell_type": "code",
   "execution_count": 3,
   "id": "500d29e9-1a66-4ad9-8fb3-740ff839c2d8",
   "metadata": {},
   "outputs": [
    {
     "data": {
      "text/plain": [
       "datetime.date(2023, 3, 24)"
      ]
     },
     "execution_count": 3,
     "metadata": {},
     "output_type": "execute_result"
    }
   ],
   "source": [
    "bugun = date.today()\n",
    "bugun"
   ]
  },
  {
   "cell_type": "code",
   "execution_count": 5,
   "id": "c184d5ce-0412-49ae-aba6-ffa90c635d20",
   "metadata": {},
   "outputs": [
    {
     "data": {
      "text/plain": [
       "datetime.date(2023, 3, 23)"
      ]
     },
     "execution_count": 5,
     "metadata": {},
     "output_type": "execute_result"
    }
   ],
   "source": [
    "dun = date(2023,3,23)\n",
    "dun"
   ]
  },
  {
   "cell_type": "code",
   "execution_count": 6,
   "id": "dbf19976-a8f7-46b4-b7fc-3ade899b5a44",
   "metadata": {},
   "outputs": [
    {
     "data": {
      "text/plain": [
       "datetime.timedelta(days=1)"
      ]
     },
     "execution_count": 6,
     "metadata": {},
     "output_type": "execute_result"
    }
   ],
   "source": [
    "bugun - dun"
   ]
  },
  {
   "cell_type": "code",
   "execution_count": 9,
   "id": "70124689-145e-4e0a-82ef-a9bb93d6eac1",
   "metadata": {},
   "outputs": [
    {
     "data": {
      "text/plain": [
       "1"
      ]
     },
     "execution_count": 9,
     "metadata": {},
     "output_type": "execute_result"
    }
   ],
   "source": [
    "zamanAraligi = bugun - dun\n",
    "zamanAraligi.days"
   ]
  },
  {
   "cell_type": "code",
   "execution_count": 8,
   "id": "9d8e806f-9a90-4121-8ca8-1b1bf06fe4ad",
   "metadata": {},
   "outputs": [
    {
     "data": {
      "text/plain": [
       "datetime.date(2023, 3, 25)"
      ]
     },
     "execution_count": 8,
     "metadata": {},
     "output_type": "execute_result"
    }
   ],
   "source": [
    "yarin = bugun + datetime.timedelta(days = 1)\n",
    "yarin"
   ]
  },
  {
   "cell_type": "code",
   "execution_count": 10,
   "id": "56b73cda-75f3-4d27-95e5-6f64fdf1181f",
   "metadata": {},
   "outputs": [
    {
     "data": {
      "text/plain": [
       "True"
      ]
     },
     "execution_count": 10,
     "metadata": {},
     "output_type": "execute_result"
    }
   ],
   "source": [
    "dun < bugun"
   ]
  },
  {
   "cell_type": "code",
   "execution_count": 11,
   "id": "6f8e6f66-6401-4711-855b-bc8fa921e341",
   "metadata": {},
   "outputs": [
    {
     "data": {
      "text/plain": [
       "False"
      ]
     },
     "execution_count": 11,
     "metadata": {},
     "output_type": "execute_result"
    }
   ],
   "source": [
    "dun > bugun"
   ]
  },
  {
   "cell_type": "code",
   "execution_count": 13,
   "id": "4be7e033-80dd-4db1-bc22-8b79701dd4c6",
   "metadata": {},
   "outputs": [
    {
     "name": "stdout",
     "output_type": "stream",
     "text": [
      "2023\n",
      "3\n",
      "24\n"
     ]
    }
   ],
   "source": [
    "print(bugun.year)\n",
    "print(bugun.month)\n",
    "print(bugun.day)"
   ]
  },
  {
   "cell_type": "code",
   "execution_count": 14,
   "id": "be6359a0-e902-4285-bdfb-74f78448e666",
   "metadata": {},
   "outputs": [
    {
     "data": {
      "text/plain": [
       "3"
      ]
     },
     "execution_count": 14,
     "metadata": {},
     "output_type": "execute_result"
    }
   ],
   "source": [
    "bugun.__getattribute__(\"month\")"
   ]
  },
  {
   "cell_type": "code",
   "execution_count": 26,
   "id": "1d6054ec-7fa0-4455-ab03-a3671e82999e",
   "metadata": {},
   "outputs": [
    {
     "data": {
      "text/plain": [
       "datetime.IsoCalendarDate(year=2023, week=12, weekday=5)"
      ]
     },
     "execution_count": 26,
     "metadata": {},
     "output_type": "execute_result"
    }
   ],
   "source": [
    "date.isocalendar(bugun)"
   ]
  },
  {
   "cell_type": "code",
   "execution_count": 27,
   "id": "00aa83fa-0023-4db9-b177-5749947246f3",
   "metadata": {},
   "outputs": [
    {
     "data": {
      "text/plain": [
       "4"
      ]
     },
     "execution_count": 27,
     "metadata": {},
     "output_type": "execute_result"
    }
   ],
   "source": [
    "date.weekday(bugun)"
   ]
  },
  {
   "cell_type": "code",
   "execution_count": 28,
   "id": "ee28d735-856a-4d6b-bf31-0e5d8d6248af",
   "metadata": {},
   "outputs": [
    {
     "data": {
      "text/plain": [
       "'Fri Mar 24 00:00:00 2023'"
      ]
     },
     "execution_count": 28,
     "metadata": {},
     "output_type": "execute_result"
    }
   ],
   "source": [
    "date.ctime(bugun)"
   ]
  },
  {
   "cell_type": "markdown",
   "id": "6e04a93e-45e6-4150-af32-ccac55dfd218",
   "metadata": {},
   "source": [
    "### **datetime.time**"
   ]
  },
  {
   "cell_type": "code",
   "execution_count": 29,
   "id": "0ad8a257-d194-44eb-8038-5051f6b75dde",
   "metadata": {},
   "outputs": [],
   "source": [
    "from datetime import time"
   ]
  },
  {
   "cell_type": "code",
   "execution_count": 36,
   "id": "b76be3d2-b337-4501-bdc2-d98b0c86a2f4",
   "metadata": {},
   "outputs": [
    {
     "name": "stdout",
     "output_type": "stream",
     "text": [
      "15:15:05\n"
     ]
    }
   ],
   "source": [
    "zaman = time(15,15,5)\n",
    "print(zaman)"
   ]
  },
  {
   "cell_type": "code",
   "execution_count": 37,
   "id": "72e351f4-f16c-4866-b5e9-eaf2515197a3",
   "metadata": {},
   "outputs": [
    {
     "data": {
      "text/plain": [
       "15"
      ]
     },
     "execution_count": 37,
     "metadata": {},
     "output_type": "execute_result"
    }
   ],
   "source": [
    "zaman.hour"
   ]
  },
  {
   "cell_type": "code",
   "execution_count": 38,
   "id": "aa8e8bcb-a36b-47bd-9254-9ab497f953ae",
   "metadata": {},
   "outputs": [
    {
     "data": {
      "text/plain": [
       "15"
      ]
     },
     "execution_count": 38,
     "metadata": {},
     "output_type": "execute_result"
    }
   ],
   "source": [
    "zaman.minute"
   ]
  },
  {
   "cell_type": "code",
   "execution_count": 39,
   "id": "804ef074-68b3-40da-9ea3-1e48bece4402",
   "metadata": {},
   "outputs": [
    {
     "data": {
      "text/plain": [
       "5"
      ]
     },
     "execution_count": 39,
     "metadata": {},
     "output_type": "execute_result"
    }
   ],
   "source": [
    "zaman.second"
   ]
  },
  {
   "cell_type": "markdown",
   "id": "b5edd97e-bd2c-40cf-bba5-2b79295e1799",
   "metadata": {},
   "source": [
    "### **datetime.datetime**"
   ]
  },
  {
   "cell_type": "code",
   "execution_count": 40,
   "id": "cabf492c-1d07-4658-b65a-e6c353e7437c",
   "metadata": {},
   "outputs": [
    {
     "name": "stdout",
     "output_type": "stream",
     "text": [
      "2023-03-24 15:17:06\n"
     ]
    }
   ],
   "source": [
    "dt = datetime.datetime(2023,3,24,15,17,6)\n",
    "print(dt)"
   ]
  },
  {
   "cell_type": "markdown",
   "id": "669ab091-f65e-401c-9be7-ddc2a8457bba",
   "metadata": {},
   "source": [
    "### **time**"
   ]
  },
  {
   "cell_type": "code",
   "execution_count": 49,
   "id": "c3bef7dc-c359-4b1c-a97c-a1fe83284c7e",
   "metadata": {},
   "outputs": [],
   "source": [
    "import time"
   ]
  },
  {
   "cell_type": "code",
   "execution_count": 54,
   "id": "e7309cd8-46ce-4c57-be21-1df4a17679b2",
   "metadata": {},
   "outputs": [
    {
     "data": {
      "text/plain": [
       "1679660389.3813345"
      ]
     },
     "execution_count": 54,
     "metadata": {},
     "output_type": "execute_result"
    }
   ],
   "source": [
    "zaman = time.time()\n",
    "zaman"
   ]
  },
  {
   "cell_type": "code",
   "execution_count": 56,
   "id": "e33d2376-9838-4b6f-a4bf-c2b1d5baee20",
   "metadata": {},
   "outputs": [
    {
     "name": "stdout",
     "output_type": "stream",
     "text": [
      "Başlama zamanı:\t1679660588.8748388\n",
      "Bitiş zamanı:\t1679660593.8906863\n",
      "Çalışma süresi:\t5\n"
     ]
    }
   ],
   "source": [
    "baslangicZaman = time.time()\n",
    "print(f\"Başlama zamanı:\\t{baslangicZaman}\")\n",
    "time.sleep(5)\n",
    "bitisZaman = time.time()\n",
    "print(f\"Bitiş zamanı:\\t{bitisZaman}\")\n",
    "print(f\"Çalışma süresi:\\t{round(bitisZaman-baslangicZaman)}\")"
   ]
  }
 ],
 "metadata": {
  "kernelspec": {
   "display_name": "Python 3 (ipykernel)",
   "language": "python",
   "name": "python3"
  },
  "language_info": {
   "codemirror_mode": {
    "name": "ipython",
    "version": 3
   },
   "file_extension": ".py",
   "mimetype": "text/x-python",
   "name": "python",
   "nbconvert_exporter": "python",
   "pygments_lexer": "ipython3",
   "version": "3.9.6"
  }
 },
 "nbformat": 4,
 "nbformat_minor": 5
}
