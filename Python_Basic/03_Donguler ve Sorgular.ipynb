{
 "cells": [
  {
   "cell_type": "markdown",
   "id": "9f2c58ed-ea7c-4600-b8f6-03b6b7a2fd49",
   "metadata": {},
   "source": [
    "### **If Sorguları**"
   ]
  },
  {
   "cell_type": "raw",
   "id": "e2b6377d-ae8e-410d-a4ac-c8b77e241741",
   "metadata": {
    "jp-MarkdownHeadingCollapsed": true,
    "tags": []
   },
   "source": [
    "# Kullanım Senaryosu-1: \n",
    "\n",
    "if <koşul sağlanıyorsa>:\n",
    "    <burada yazılanı yap>"
   ]
  },
  {
   "cell_type": "code",
   "execution_count": 1,
   "id": "67adad78-0e47-4cfd-9d7d-2d63ba7e9516",
   "metadata": {},
   "outputs": [
    {
     "name": "stdout",
     "output_type": "stream",
     "text": [
      "Hava Yağışlı lütfen şemsiyenizi alın!\n"
     ]
    }
   ],
   "source": [
    "havaDurumu = \"Yağışlı\"\n",
    "if havaDurumu == \"Yağışlı\":\n",
    "     print(f\"Hava {havaDurumu} lütfen şemsiyenizi alın!\")"
   ]
  },
  {
   "cell_type": "raw",
   "id": "f6a31eee-49e9-4675-b798-bfb8a4d3a9a1",
   "metadata": {},
   "source": [
    "# Kullanım Senaryosu-2: \n",
    "\n",
    "if <koşul sağlanıyorsa>:\n",
    "    <burada yazılanı yap>\n",
    "else:\n",
    "    <burada yazılanı yap>"
   ]
  },
  {
   "cell_type": "code",
   "execution_count": 2,
   "id": "c8d54992-0573-40fa-a26e-29b71999f332",
   "metadata": {},
   "outputs": [
    {
     "name": "stdout",
     "output_type": "stream",
     "text": [
      "Hava Güneşli değil şemsiyenizi almaya gerek yoktur!\n"
     ]
    }
   ],
   "source": [
    "havaDurumu = \"Güneşli\"\n",
    "if havaDurumu == \"Yağışlı\":\n",
    "    print(f\"Hava {havaDurumu} lütfen şemsiyenizi alın!\")\n",
    "else:\n",
    "    print(f\"Hava {havaDurumu} değil şemsiyenizi almaya gerek yoktur!\")"
   ]
  },
  {
   "cell_type": "raw",
   "id": "eadfbe45-88da-49c7-ba4c-58458877545a",
   "metadata": {},
   "source": [
    "# Kullanım Senaryosu-3: \n",
    "\n",
    "if <koşul sağlanıyorsa>:\n",
    "    <burada yazılanı yap>\n",
    "elif <alternatif koşul sağlanıyorsa>:\n",
    "    <burada yazılanı yap>\n",
    "else: \n",
    "    <burada yazılanı yap>"
   ]
  },
  {
   "cell_type": "code",
   "execution_count": 3,
   "id": "4adcccdd-9b8e-4c8f-b16c-8c2fa66cb6c0",
   "metadata": {},
   "outputs": [
    {
     "name": "stdout",
     "output_type": "stream",
     "text": [
      "Hava Karlı lütfen atkınızı alın!\n"
     ]
    }
   ],
   "source": [
    "havaDurumu = \"Karlı\"\n",
    "if havaDurumu == \"Yağışlı\":\n",
    "    print(f\"Hava {havaDurumu} lütfen şemsiyenizi alın!\")\n",
    "elif havaDurumu == \"Karlı\":\n",
    "    print(f\"Hava {havaDurumu} lütfen atkınızı alın!\")\n",
    "else:\n",
    "     print(f\"Hava {havaDurumu} değil şemsiyenizi almaya gerek yoktur!\")"
   ]
  },
  {
   "cell_type": "code",
   "execution_count": 4,
   "id": "120006c8-f83a-487f-887e-ea0660c5c1a3",
   "metadata": {},
   "outputs": [
    {
     "name": "stdout",
     "output_type": "stream",
     "text": [
      "sen buraya ait değilsin.\n"
     ]
    }
   ],
   "source": [
    "yas = 16\n",
    "if yas > 18:\n",
    "    print(\"Selam\")\n",
    "else:\n",
    "    print(\"sen buraya ait değilsin.\")"
   ]
  },
  {
   "cell_type": "code",
   "execution_count": 5,
   "id": "438f8c61-b8bb-43bd-a7e4-6ce5397a52ad",
   "metadata": {},
   "outputs": [
    {
     "name": "stdout",
     "output_type": "stream",
     "text": [
      "listeye eklendi.\n",
      "Güncel liste : ['a', 'b', 'c', 'd']\n"
     ]
    }
   ],
   "source": [
    "liste = [\"a\",\"b\",\"c\"]\n",
    "hedefHarf = \"d\"\n",
    "if hedefHarf in liste:\n",
    "    print(\"liste içerisinde\")\n",
    "else:\n",
    "    liste.append(hedefHarf)\n",
    "    print(\"listeye eklendi.\")\n",
    "    print(f\"Güncel liste : {liste}\")"
   ]
  },
  {
   "cell_type": "code",
   "execution_count": 6,
   "id": "4e3819a6-3ae7-4dbe-8a7b-f2f819340f76",
   "metadata": {},
   "outputs": [
    {
     "name": "stdout",
     "output_type": "stream",
     "text": [
      "ilk konumda değildir.\n"
     ]
    }
   ],
   "source": [
    "if hedefHarf in liste and (hedefHarf == liste[0]):\n",
    "    print(\"liste içerisinde ve ilk harf konumunda\")\n",
    "elif hedefHarf in liste:\n",
    "    print(\"ilk konumda değildir.\")\n",
    "else:\n",
    "    liste.append(hedefHarf)\n",
    "    print(\"listeye eklendi.\")\n",
    "    print(f\"Güncel liste : {liste}\")"
   ]
  },
  {
   "cell_type": "markdown",
   "id": "9c5c54e2-4176-4209-9ef6-bb89475731df",
   "metadata": {
    "tags": []
   },
   "source": [
    "#### **for Döngüleri**"
   ]
  },
  {
   "cell_type": "raw",
   "id": "47bc7af1-e487-4188-8975-2e122a26b6c5",
   "metadata": {},
   "source": [
    "for <degisken> in <iterable>:\n",
    "    <buraya yazılanı yap>"
   ]
  },
  {
   "cell_type": "code",
   "execution_count": 9,
   "id": "38202367-0d26-4ba9-9881-80aad5e7c786",
   "metadata": {},
   "outputs": [],
   "source": [
    "yorumBirakanlar = [\"İsmail Aydemir\", \"Uygar Aydın\", \"Naz Yağcıoğlu\", \"Ferhat İbrik\", \"Ulas Acil\", \"Bilal Kurucay\"]"
   ]
  },
  {
   "cell_type": "code",
   "execution_count": 10,
   "id": "e257cf40-3d2a-44ec-a664-546a1e526a17",
   "metadata": {},
   "outputs": [
    {
     "name": "stdout",
     "output_type": "stream",
     "text": [
      "İsmail Aydemir\n",
      "Uygar Aydın\n",
      "Naz Yağcıoğlu\n",
      "Ferhat İbrik\n",
      "Ulas Acil\n",
      "Bilal Kurucay\n"
     ]
    }
   ],
   "source": [
    "for i in yorumBirakanlar:\n",
    "    print(i)"
   ]
  },
  {
   "cell_type": "code",
   "execution_count": 11,
   "id": "8f546f2f-c26e-45b0-9c67-2d29cc7c5fb2",
   "metadata": {},
   "outputs": [
    {
     "name": "stdout",
     "output_type": "stream",
     "text": [
      "1- İsmail Aydemir\n",
      "2- Uygar Aydın\n",
      "3- Naz Yağcıoğlu\n",
      "4- Ferhat İbrik\n",
      "5- Ulas Acil\n",
      "6- Bilal Kurucay\n"
     ]
    }
   ],
   "source": [
    "kullaniciSayisi = 0\n",
    "for kullanici in yorumBirakanlar:\n",
    "    kullaniciSayisi +=1 \n",
    "    print(f\"{kullaniciSayisi}- {kullanici}\")\n"
   ]
  },
  {
   "cell_type": "code",
   "execution_count": 10,
   "id": "d5287642-53c0-455f-aefc-19d73766d1ab",
   "metadata": {},
   "outputs": [
    {
     "data": {
      "text/plain": [
       "['İsmail', 'Aydemir']"
      ]
     },
     "execution_count": 10,
     "metadata": {},
     "output_type": "execute_result"
    }
   ],
   "source": [
    "yorumBirakanlar[0].split()"
   ]
  },
  {
   "cell_type": "code",
   "execution_count": 11,
   "id": "f9c663db-82e9-4494-9652-3ca1696e081b",
   "metadata": {},
   "outputs": [
    {
     "name": "stdout",
     "output_type": "stream",
     "text": [
      "1. Kullanıcının Adı İsmail ve Soyadı Aydemir.\n",
      "2. Kullanıcının Adı Uygar ve Soyadı Aydın.\n",
      "3. Kullanıcının Adı Naz ve Soyadı Yağcıoğlu.\n",
      "4. Kullanıcının Adı Ferhat ve Soyadı İbrik.\n",
      "5. Kullanıcının Adı Ulas ve Soyadı Acil.\n",
      "6. Kullanıcının Adı Bilal ve Soyadı Kurucay.\n"
     ]
    }
   ],
   "source": [
    "kullaniciSayisi = 0\n",
    "for kullanici in yorumBirakanlar:\n",
    "    kullaniciSayisi +=1\n",
    "    ad, soyad = kullanici.split()[0], kullanici.split()[1]\n",
    "    print(f\"{kullaniciSayisi}. Kullanıcının Adı {ad} ve Soyadı {soyad}.\")"
   ]
  },
  {
   "cell_type": "code",
   "execution_count": 12,
   "id": "e7b10f40-7396-40bd-b8be-24026847ce47",
   "metadata": {},
   "outputs": [
    {
     "name": "stdout",
     "output_type": "stream",
     "text": [
      "1. Kullanıcı Adı İsmail ve Soyadı Aydemir.\n",
      "2. Kullanıcı Adı Uygar ve Soyadı Aydın.\n",
      "3. Kullanıcı Adı Naz ve Soyadı Yağcıoğlu.\n",
      "1. Moderatör Adı Ferhat ve Soyadı İbrik.\n",
      "4. Kullanıcı Adı Ulas ve Soyadı Acil.\n",
      "5. Kullanıcı Adı Bilal ve Soyadı Kurucay.\n"
     ]
    }
   ],
   "source": [
    "moderator = \"Ferhat İbrik\"\n",
    "kullaniciSayisi = 0\n",
    "moderatorSayisi = 0\n",
    "for kullanici in yorumBirakanlar:\n",
    "    ad, soyad = kullanici.split()[0], kullanici.split()[1]\n",
    "    if kullanici == moderator:\n",
    "        moderatorSayisi +=1\n",
    "        print(f\"{moderatorSayisi}. Moderatör Adı {ad} ve Soyadı {soyad}.\")\n",
    "    else:\n",
    "        kullaniciSayisi +=1\n",
    "        print(f\"{kullaniciSayisi}. Kullanıcı Adı {ad} ve Soyadı {soyad}.\")"
   ]
  },
  {
   "cell_type": "markdown",
   "id": "971ba499-03b7-4cf6-87f5-c25bba14ba17",
   "metadata": {},
   "source": [
    "### **Diğer Iterable Objelerde for Döngüleri**"
   ]
  },
  {
   "cell_type": "code",
   "execution_count": 13,
   "id": "020fb005-4c57-49cf-b538-aa9338204ab8",
   "metadata": {},
   "outputs": [
    {
     "name": "stdout",
     "output_type": "stream",
     "text": [
      "1\n",
      "3\n",
      "5\n",
      "7\n"
     ]
    }
   ],
   "source": [
    "tup1 = (1, 3, 5, 7)\n",
    "for sayi in tup1:\n",
    "    print(sayi)"
   ]
  },
  {
   "cell_type": "code",
   "execution_count": 14,
   "id": "f83d65a7-0976-4e4e-8a06-296d2fde60ad",
   "metadata": {},
   "outputs": [
    {
     "name": "stdout",
     "output_type": "stream",
     "text": [
      "1\n",
      "3\n"
     ]
    }
   ],
   "source": [
    "liste = [[1, 2],[3,4]]\n",
    "for x,y in liste:\n",
    "    print(x)"
   ]
  },
  {
   "cell_type": "code",
   "execution_count": 15,
   "id": "b720073a-066c-4d2b-98b7-4550a5bbbfcb",
   "metadata": {},
   "outputs": [
    {
     "name": "stdout",
     "output_type": "stream",
     "text": [
      "2\n",
      "12\n"
     ]
    }
   ],
   "source": [
    "liste = [[1, 2],[3,4]]\n",
    "for x,y in liste:\n",
    "    print(x*y)"
   ]
  },
  {
   "cell_type": "code",
   "execution_count": 16,
   "id": "f625c707-89b6-4257-84c3-4e5577a9b5d8",
   "metadata": {},
   "outputs": [
    {
     "name": "stdout",
     "output_type": "stream",
     "text": [
      "1\n",
      "2\n",
      "3\n",
      "4\n"
     ]
    }
   ],
   "source": [
    "liste = [[1, 2],[3,4]]\n",
    "for i in liste:\n",
    "    for j in i:\n",
    "        print(j)"
   ]
  },
  {
   "cell_type": "code",
   "execution_count": 17,
   "id": "b9d07431-8045-4be9-a4f2-ef622379c8b7",
   "metadata": {},
   "outputs": [],
   "source": [
    "kullanici1 = {\n",
    "    \"ad\": \"Naz\",\n",
    "    \"soyad\": \"Yağcıoğlu\"}"
   ]
  },
  {
   "cell_type": "code",
   "execution_count": 18,
   "id": "52e76e15-3bfa-41f7-92d0-29df42137f3b",
   "metadata": {},
   "outputs": [
    {
     "name": "stdout",
     "output_type": "stream",
     "text": [
      "Anahtar: ad \t Değer: Naz\n",
      "Anahtar: soyad \t Değer: Yağcıoğlu\n"
     ]
    }
   ],
   "source": [
    "for k, v in kullanici1.items():\n",
    "    print(f\"Anahtar: {k} \\t Değer: {v}\")"
   ]
  },
  {
   "cell_type": "code",
   "execution_count": 19,
   "id": "a5b4eb25-d5e2-42b0-b639-0b8769432412",
   "metadata": {},
   "outputs": [
    {
     "name": "stdout",
     "output_type": "stream",
     "text": [
      "Anahtar: ad\n",
      "Anahtar: soyad\n"
     ]
    }
   ],
   "source": [
    "for k in kullanici1.keys():\n",
    "    print(f\"Anahtar: {k}\")"
   ]
  },
  {
   "cell_type": "code",
   "execution_count": 20,
   "id": "adfdad17-086a-4f45-add5-236ae4d0d34d",
   "metadata": {},
   "outputs": [
    {
     "name": "stdout",
     "output_type": "stream",
     "text": [
      "Değer: Naz\n",
      "Değer: Yağcıoğlu\n"
     ]
    }
   ],
   "source": [
    "for v in kullanici1.values():\n",
    "    print(f\"Değer: {v}\")"
   ]
  },
  {
   "cell_type": "markdown",
   "id": "84d72ba9-98ec-4d41-af07-9ec1e3fdd563",
   "metadata": {},
   "source": [
    "#### **while Döngüleri**"
   ]
  },
  {
   "cell_type": "raw",
   "id": "0a7a4105-4172-4a89-93cc-7144f8b657d7",
   "metadata": {},
   "source": [
    "while <şart doğruyken>:\n",
    "    <burada yazılanı yap>"
   ]
  },
  {
   "cell_type": "code",
   "execution_count": 21,
   "id": "da60cec5-5cf2-4491-9e03-408ca0fe6f32",
   "metadata": {},
   "outputs": [
    {
     "name": "stdout",
     "output_type": "stream",
     "text": [
      "0 değeri 10 dan küçüktür.\n",
      "1 değeri 10 dan küçüktür.\n",
      "2 değeri 10 dan küçüktür.\n",
      "3 değeri 10 dan küçüktür.\n",
      "4 değeri 10 dan küçüktür.\n",
      "5 değeri 10 dan küçüktür.\n",
      "6 değeri 10 dan küçüktür.\n",
      "7 değeri 10 dan küçüktür.\n",
      "8 değeri 10 dan küçüktür.\n",
      "9 değeri 10 dan küçüktür.\n"
     ]
    }
   ],
   "source": [
    "x = 0\n",
    "while x<10:\n",
    "    print(f\"{x} değeri 10 dan küçüktür.\")\n",
    "    x +=1"
   ]
  },
  {
   "cell_type": "raw",
   "id": "0c52f99a-0c9d-4994-8339-5420607e7a01",
   "metadata": {},
   "source": [
    "while <şart doğruyken>:\n",
    "    <burada yazılanı yap>\n",
    "else:\n",
    "    <burada yazılanı yap>"
   ]
  },
  {
   "cell_type": "code",
   "execution_count": 22,
   "id": "f65e941b-9d32-4f18-9075-a67d26049036",
   "metadata": {},
   "outputs": [
    {
     "name": "stdout",
     "output_type": "stream",
     "text": [
      "0 değeri 10 dan küçüktür.\n",
      "1 değeri 10 dan küçüktür.\n",
      "2 değeri 10 dan küçüktür.\n",
      "3 değeri 10 dan küçüktür.\n",
      "4 değeri 10 dan küçüktür.\n",
      "5 değeri 10 dan küçüktür.\n",
      "6 değeri 10 dan küçüktür.\n",
      "7 değeri 10 dan küçüktür.\n",
      "8 değeri 10 dan küçüktür.\n",
      "9 değeri 10 dan küçüktür.\n",
      "10 değeri 10 dan küçük değildir.\n"
     ]
    }
   ],
   "source": [
    "x = 0\n",
    "while x<10:\n",
    "    print(f\"{x} değeri 10 dan küçüktür.\")\n",
    "    x +=1\n",
    "else:\n",
    "    print(f\"{x} değeri 10 dan küçük değildir.\")"
   ]
  },
  {
   "cell_type": "code",
   "execution_count": 23,
   "id": "74c3a0f0-496b-413b-8446-8456ea79466f",
   "metadata": {},
   "outputs": [
    {
     "name": "stdout",
     "output_type": "stream",
     "text": [
      "120\n"
     ]
    }
   ],
   "source": [
    "# faktoriyel \n",
    "x = 5\n",
    "sonuc=1\n",
    "while x>0:\n",
    "    sonuc = sonuc * x\n",
    "    x -=1\n",
    "print(sonuc)"
   ]
  },
  {
   "cell_type": "markdown",
   "id": "312a2af1-e53f-4494-8a1d-3f838239c325",
   "metadata": {},
   "source": [
    "### **range**"
   ]
  },
  {
   "cell_type": "code",
   "execution_count": 24,
   "id": "9d225f25-d1e8-48c6-9cc2-a9a4056fdf74",
   "metadata": {},
   "outputs": [
    {
     "data": {
      "text/plain": [
       "range(0, 10)"
      ]
     },
     "execution_count": 24,
     "metadata": {},
     "output_type": "execute_result"
    }
   ],
   "source": [
    "range(10)"
   ]
  },
  {
   "cell_type": "code",
   "execution_count": 25,
   "id": "1a317f89-93e7-49dd-9288-89c6b578b282",
   "metadata": {},
   "outputs": [
    {
     "data": {
      "text/plain": [
       "[1, 2, 3, 4, 5, 6, 7, 8, 9]"
      ]
     },
     "execution_count": 25,
     "metadata": {},
     "output_type": "execute_result"
    }
   ],
   "source": [
    "list(range(1,10))"
   ]
  },
  {
   "cell_type": "code",
   "execution_count": 26,
   "id": "73de4603-c983-4ee1-b39d-33900ac084b7",
   "metadata": {},
   "outputs": [
    {
     "data": {
      "text/plain": [
       "[0, 1, 2, 3, 4, 5, 6, 7, 8, 9]"
      ]
     },
     "execution_count": 26,
     "metadata": {},
     "output_type": "execute_result"
    }
   ],
   "source": [
    "[*range(10)]"
   ]
  },
  {
   "cell_type": "code",
   "execution_count": 27,
   "id": "2bee4f86-665d-448b-a5c1-e1696b5a4d90",
   "metadata": {},
   "outputs": [
    {
     "data": {
      "text/plain": [
       "[2, 3, 4, 5, 6]"
      ]
     },
     "execution_count": 27,
     "metadata": {},
     "output_type": "execute_result"
    }
   ],
   "source": [
    "[*range(2,7)]"
   ]
  },
  {
   "cell_type": "code",
   "execution_count": 28,
   "id": "0681c3e6-9b85-44fc-b661-57ab45440603",
   "metadata": {},
   "outputs": [
    {
     "data": {
      "text/plain": [
       "[2, 4, 6]"
      ]
     },
     "execution_count": 28,
     "metadata": {},
     "output_type": "execute_result"
    }
   ],
   "source": [
    "[*range(2,7,2)]"
   ]
  },
  {
   "cell_type": "code",
   "execution_count": 29,
   "id": "f5122b11-aff7-48b4-85bc-8e0676572369",
   "metadata": {},
   "outputs": [
    {
     "name": "stdout",
     "output_type": "stream",
     "text": [
      "0\n",
      "1\n",
      "2\n",
      "3\n",
      "4\n",
      "5\n",
      "6\n",
      "7\n",
      "8\n",
      "9\n"
     ]
    }
   ],
   "source": [
    "for i in  range(0,10):\n",
    "    print(i)"
   ]
  },
  {
   "cell_type": "code",
   "execution_count": 30,
   "id": "8503c82f-66dd-4ee1-84e4-60d209378fa7",
   "metadata": {},
   "outputs": [
    {
     "name": "stdout",
     "output_type": "stream",
     "text": [
      "6\n",
      "7\n",
      "8\n",
      "9\n"
     ]
    }
   ],
   "source": [
    "for i in range(10):\n",
    "    if i > 5:\n",
    "        print(i)"
   ]
  },
  {
   "cell_type": "markdown",
   "id": "839c3f6e-8332-46f2-8f85-3a1f8eb6bdbe",
   "metadata": {},
   "source": [
    "### **enumerate**"
   ]
  },
  {
   "cell_type": "code",
   "execution_count": 6,
   "id": "f4296a81-e3ed-4fad-a4b3-f23a19a420c3",
   "metadata": {},
   "outputs": [
    {
     "name": "stdout",
     "output_type": "stream",
     "text": [
      "(0, 'a')\n",
      "(1, 'b')\n",
      "(2, 'c')\n",
      "(3, 'd')\n",
      "(4, 'e')\n"
     ]
    }
   ],
   "source": [
    "harfler = [\"a\", \"b\", \"c\", \"d\", \"e\"]\n",
    "for i in enumerate(harfler):\n",
    "    print(i[])"
   ]
  },
  {
   "cell_type": "code",
   "execution_count": 1,
   "id": "78283839-21c6-43ae-a6f7-e2550980f29a",
   "metadata": {},
   "outputs": [
    {
     "ename": "NameError",
     "evalue": "name 'i' is not defined",
     "output_type": "error",
     "traceback": [
      "\u001b[1;31m---------------------------------------------------------------------------\u001b[0m",
      "\u001b[1;31mNameError\u001b[0m                                 Traceback (most recent call last)",
      "\u001b[1;32m~\\AppData\\Local\\Temp/ipykernel_15636/69513981.py\u001b[0m in \u001b[0;36m<module>\u001b[1;34m\u001b[0m\n\u001b[1;32m----> 1\u001b[1;33m \u001b[0mi\u001b[0m\u001b[1;33m[\u001b[0m\u001b[1;36m0\u001b[0m\u001b[1;33m]\u001b[0m\u001b[1;33m\u001b[0m\u001b[1;33m\u001b[0m\u001b[0m\n\u001b[0m",
      "\u001b[1;31mNameError\u001b[0m: name 'i' is not defined"
     ]
    }
   ],
   "source": [
    "i[0]"
   ]
  },
  {
   "cell_type": "code",
   "execution_count": 32,
   "id": "68e5e302-447b-4a2f-bc04-6716c08affb1",
   "metadata": {},
   "outputs": [
    {
     "name": "stdout",
     "output_type": "stream",
     "text": [
      "1 a\n",
      "2 b\n",
      "3 c\n",
      "4 d\n",
      "5 e\n"
     ]
    }
   ],
   "source": [
    "harfler = [\"a\", \"b\", \"c\", \"d\", \"e\"]\n",
    "for index, harf in enumerate(harfler):\n",
    "    print(index+1, harf)"
   ]
  },
  {
   "cell_type": "markdown",
   "id": "fbd378a0-a4a9-4eef-93d5-2e555767b76f",
   "metadata": {},
   "source": [
    "### **zip**"
   ]
  },
  {
   "cell_type": "code",
   "execution_count": 33,
   "id": "5a44981f-64f9-4b61-a8c2-e24838911098",
   "metadata": {},
   "outputs": [
    {
     "name": "stdout",
     "output_type": "stream",
     "text": [
      "TR 1\n",
      "FR 2\n",
      "DE 3\n"
     ]
    }
   ],
   "source": [
    "ulkeler = [\"TR\", \"FR\", \"DE\"]\n",
    "siralamalar = range(1,4)\n",
    "for ulke, sira in zip(ulkeler,siralamalar):\n",
    "    print(ulke, sira)"
   ]
  },
  {
   "cell_type": "markdown",
   "id": "b7e1a1c2-7062-49c5-af28-d3eb1a996267",
   "metadata": {},
   "source": [
    "### **break**"
   ]
  },
  {
   "cell_type": "code",
   "execution_count": 34,
   "id": "bcff4457-f44b-4f25-953c-394616a77352",
   "metadata": {},
   "outputs": [
    {
     "name": "stdout",
     "output_type": "stream",
     "text": [
      "c harfi 2.indekste!\n"
     ]
    }
   ],
   "source": [
    "harfler = [\"a\", \"b\", \"c\", \"d\", \"e\"] * 100\n",
    "for index, harf in enumerate(harfler):\n",
    "    if harf == \"c\":\n",
    "        print(f\"{harf} harfi {index}.indekste!\")\n",
    "        break"
   ]
  },
  {
   "cell_type": "markdown",
   "id": "71520b4d-eede-4a93-971c-dfd3855fd949",
   "metadata": {},
   "source": [
    "### **continue**"
   ]
  },
  {
   "cell_type": "code",
   "execution_count": 35,
   "id": "29af3b08-c46d-4c9b-b630-47f01093153c",
   "metadata": {},
   "outputs": [
    {
     "name": "stdout",
     "output_type": "stream",
     "text": [
      "1\n",
      "3\n",
      "5\n"
     ]
    }
   ],
   "source": [
    "for sayi in range(1,6):\n",
    "    if sayi% 2 == 0:\n",
    "        continue\n",
    "    print(sayi)"
   ]
  },
  {
   "cell_type": "markdown",
   "id": "9134f400-f728-4a1d-8698-c62ac94b25fb",
   "metadata": {},
   "source": [
    "### **pass**"
   ]
  },
  {
   "cell_type": "code",
   "execution_count": 36,
   "id": "ec0cc23b-119a-47ae-8c1d-aacf220e3326",
   "metadata": {},
   "outputs": [
    {
     "name": "stdout",
     "output_type": "stream",
     "text": [
      "1\n",
      "3\n",
      "5\n"
     ]
    }
   ],
   "source": [
    "for sayi in range(1,6):\n",
    "    if sayi% 2 == 0:\n",
    "        pass\n",
    "    else:\n",
    "        print(sayi)"
   ]
  },
  {
   "cell_type": "code",
   "execution_count": 37,
   "id": "c6d94cec-2085-4fc5-811d-c878ef1b6d9c",
   "metadata": {},
   "outputs": [
    {
     "name": "stdout",
     "output_type": "stream",
     "text": [
      "Hey\n"
     ]
    }
   ],
   "source": [
    "if sayi < 5:\n",
    "    pass\n",
    "else:\n",
    "    print(\"Hey\")"
   ]
  }
 ],
 "metadata": {
  "kernelspec": {
   "display_name": "Python 3 (ipykernel)",
   "language": "python",
   "name": "python3"
  },
  "language_info": {
   "codemirror_mode": {
    "name": "ipython",
    "version": 3
   },
   "file_extension": ".py",
   "mimetype": "text/x-python",
   "name": "python",
   "nbconvert_exporter": "python",
   "pygments_lexer": "ipython3",
   "version": "3.9.6"
  }
 },
 "nbformat": 4,
 "nbformat_minor": 5
}
