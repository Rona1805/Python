{
 "cells": [
  {
   "cell_type": "markdown",
   "id": "ecc75562-58b6-45e5-bafe-5fae1e5e97ef",
   "metadata": {},
   "source": [
    "#### **Magic Commands**"
   ]
  },
  {
   "cell_type": "code",
   "execution_count": 74,
   "id": "f87446ca-9699-42e2-9828-8f404bc47a4c",
   "metadata": {},
   "outputs": [
    {
     "name": "stdout",
     "output_type": "stream",
     "text": [
      " Volume in drive C is OS\n",
      " Volume Serial Number is 140E-0736\n",
      "\n",
      " Directory of C:\\Users\\ibrah\\OneDrive\\Masa�st�\\python\n",
      "\n",
      "28.03.2023  01:48    <DIR>          .\n",
      "28.03.2023  01:48    <DIR>          ..\n",
      "28.03.2023  01:47    <DIR>          .ipynb_checkpoints\n",
      "22.03.2023  22:24             6.993 01_Print Komutu.ipynb\n",
      "22.03.2023  22:24            59.102 02_Veri Tipleri.ipynb\n",
      "25.03.2023  02:40            22.372 03_Donguler ve Sorgular.ipynb\n",
      "22.03.2023  22:24             4.175 04_Quiz Cevaplar�.ipynb\n",
      "22.03.2023  22:26            29.180 05_Fonksiyonlar.ipynb\n",
      "22.03.2023  22:27             5.701 06_Quiz2 Cevaplar�.ipynb\n",
      "24.03.2023  06:09           245.064 07_Class(OOP).ipynb\n",
      "28.03.2023  01:47            12.601 08_Moduleler.ipynb\n",
      "24.03.2023  13:45            17.367 09_Regular Expression.ipynb\n",
      "24.03.2023  14:40            52.163 10_ Math ve Random.ipynb\n",
      "24.03.2023  14:57             5.327 11_Counter.ipynb\n",
      "24.03.2023  15:23             9.180 12_DateTime.ipynb\n",
      "25.03.2023  00:06            13.756 13_Decorator'ler.ipynb\n",
      "28.03.2023  01:44             5.912 14_GUI.ipynb\n",
      "28.03.2023  01:43                76 hatirlatma.txt\n",
      "28.03.2023  01:47             3.706 pizzaSiparis.ipynb\n",
      "28.03.2023  01:47             6.382 Untitled21.ipynb\n",
      "              17 File(s)        499.057 bytes\n",
      "               3 Dir(s)  865.167.364.096 bytes free\n"
     ]
    }
   ],
   "source": [
    "%ls"
   ]
  },
  {
   "cell_type": "code",
   "execution_count": 75,
   "id": "2d1a2af1-162c-4ccf-9359-113e82bd8cbf",
   "metadata": {},
   "outputs": [
    {
     "data": {
      "text/plain": [
       "'C:\\\\Users\\\\ibrah\\\\OneDrive\\\\Masaüstü\\\\python'"
      ]
     },
     "execution_count": 75,
     "metadata": {},
     "output_type": "execute_result"
    }
   ],
   "source": [
    "%pwd # Lokasyon"
   ]
  },
  {
   "cell_type": "markdown",
   "id": "4437d9fe-d214-4562-8914-842a9788f34c",
   "metadata": {},
   "source": [
    "### **OS modulü**"
   ]
  },
  {
   "cell_type": "markdown",
   "id": "1b09ba58-983d-4e1e-b6a8-e2ef9babe86f",
   "metadata": {},
   "source": [
    "#### **Navigasyon ve İçerik Listeleme**"
   ]
  },
  {
   "cell_type": "code",
   "execution_count": 76,
   "id": "2a782ccd-063a-4b86-9d06-4e0f956cd284",
   "metadata": {},
   "outputs": [],
   "source": [
    "import os"
   ]
  },
  {
   "cell_type": "code",
   "execution_count": 77,
   "id": "1d47b43b-3474-4078-999a-8c3c4dc06cf0",
   "metadata": {},
   "outputs": [
    {
     "data": {
      "text/plain": [
       "'C:\\\\Users\\\\ibrah\\\\OneDrive\\\\Masaüstü\\\\python'"
      ]
     },
     "execution_count": 77,
     "metadata": {},
     "output_type": "execute_result"
    }
   ],
   "source": [
    "os.getcwd()"
   ]
  },
  {
   "cell_type": "code",
   "execution_count": 78,
   "id": "05906961-0cac-4643-8fee-b5ebb16c27ec",
   "metadata": {},
   "outputs": [
    {
     "data": {
      "text/plain": [
       "['.ipynb_checkpoints',\n",
       " '01_Print Komutu.ipynb',\n",
       " '02_Veri Tipleri.ipynb',\n",
       " '03_Donguler ve Sorgular.ipynb',\n",
       " '04_Quiz Cevapları.ipynb',\n",
       " '05_Fonksiyonlar.ipynb',\n",
       " '06_Quiz2 Cevapları.ipynb',\n",
       " '07_Class(OOP).ipynb',\n",
       " '08_Moduleler.ipynb',\n",
       " '09_Regular Expression.ipynb',\n",
       " '10_ Math ve Random.ipynb',\n",
       " '11_Counter.ipynb',\n",
       " '12_DateTime.ipynb',\n",
       " \"13_Decorator'ler.ipynb\",\n",
       " '14_GUI.ipynb',\n",
       " 'hatirlatma.txt',\n",
       " 'pizzaSiparis.ipynb',\n",
       " 'Untitled21.ipynb']"
      ]
     },
     "execution_count": 78,
     "metadata": {},
     "output_type": "execute_result"
    }
   ],
   "source": [
    "os.listdir()"
   ]
  },
  {
   "cell_type": "code",
   "execution_count": 79,
   "id": "3e3016b8-72d2-4c86-8a73-12f3817a26f0",
   "metadata": {},
   "outputs": [
    {
     "data": {
      "text/plain": [
       "['All Users', 'Default', 'Default User', 'desktop.ini', 'ibrah', 'Public']"
      ]
     },
     "execution_count": 79,
     "metadata": {},
     "output_type": "execute_result"
    }
   ],
   "source": [
    "os.listdir(\"C:\\\\Users\")"
   ]
  },
  {
   "cell_type": "code",
   "execution_count": 80,
   "id": "3d6be4a4-c89f-4804-a741-a5ff8d695334",
   "metadata": {},
   "outputs": [
    {
     "name": "stdout",
     "output_type": "stream",
     "text": [
      ".ipynb_checkpoints ibrahim\n",
      "01_Print Komutu.ipynb ibrahim\n",
      "02_Veri Tipleri.ipynb ibrahim\n",
      "03_Donguler ve Sorgular.ipynb ibrahim\n",
      "04_Quiz Cevapları.ipynb ibrahim\n",
      "05_Fonksiyonlar.ipynb ibrahim\n",
      "06_Quiz2 Cevapları.ipynb ibrahim\n",
      "07_Class(OOP).ipynb ibrahim\n",
      "08_Moduleler.ipynb ibrahim\n",
      "09_Regular Expression.ipynb ibrahim\n",
      "10_ Math ve Random.ipynb ibrahim\n",
      "11_Counter.ipynb ibrahim\n",
      "12_DateTime.ipynb ibrahim\n",
      "13_Decorator'ler.ipynb ibrahim\n",
      "14_GUI.ipynb ibrahim\n",
      "hatirlatma.txt ibrahim\n",
      "pizzaSiparis.ipynb ibrahim\n",
      "Untitled21.ipynb ibrahim\n"
     ]
    }
   ],
   "source": [
    "dosyalar = os.listdir()\n",
    "for i in dosyalar:\n",
    "    print(i+ \" ibrahim\")"
   ]
  },
  {
   "cell_type": "markdown",
   "id": "e8fa58af-71d7-4620-a51c-93ac52b4e384",
   "metadata": {},
   "source": [
    "#### **Yeni Eleman Oluşturma, İsim Değiştirme ve Silme**"
   ]
  },
  {
   "cell_type": "code",
   "execution_count": 81,
   "id": "cc2cb287-9213-4ecf-9ee9-febcdba873fb",
   "metadata": {},
   "outputs": [],
   "source": [
    "os.mkdir(\"C:\\\\Users\\\\ibrah\\\\OneDrive\\\\Masaüstü\\\\python\\\\denemeKlasoru\")"
   ]
  },
  {
   "cell_type": "code",
   "execution_count": 82,
   "id": "a1bf2cbf-78ff-4102-8800-ac5f3d2b7b5a",
   "metadata": {},
   "outputs": [
    {
     "data": {
      "text/plain": [
       "['.ipynb_checkpoints',\n",
       " '01_Print Komutu.ipynb',\n",
       " '02_Veri Tipleri.ipynb',\n",
       " '03_Donguler ve Sorgular.ipynb',\n",
       " '04_Quiz Cevapları.ipynb',\n",
       " '05_Fonksiyonlar.ipynb',\n",
       " '06_Quiz2 Cevapları.ipynb',\n",
       " '07_Class(OOP).ipynb',\n",
       " '08_Moduleler.ipynb',\n",
       " '09_Regular Expression.ipynb',\n",
       " '10_ Math ve Random.ipynb',\n",
       " '11_Counter.ipynb',\n",
       " '12_DateTime.ipynb',\n",
       " \"13_Decorator'ler.ipynb\",\n",
       " '14_GUI.ipynb',\n",
       " 'denemeKlasoru',\n",
       " 'hatirlatma.txt',\n",
       " 'pizzaSiparis.ipynb',\n",
       " 'Untitled21.ipynb']"
      ]
     },
     "execution_count": 82,
     "metadata": {},
     "output_type": "execute_result"
    }
   ],
   "source": [
    "os.listdir()"
   ]
  },
  {
   "cell_type": "code",
   "execution_count": 83,
   "id": "f8f88fb2-93d4-4793-9272-d8d23a62f610",
   "metadata": {},
   "outputs": [],
   "source": [
    "os.rmdir(\"C:\\\\Users\\\\ibrah\\\\OneDrive\\\\Masaüstü\\\\python\\\\denemeKlasoru\")"
   ]
  },
  {
   "cell_type": "code",
   "execution_count": 84,
   "id": "affdbd04-c8aa-424c-9e67-78f9b8ae034a",
   "metadata": {},
   "outputs": [
    {
     "data": {
      "text/plain": [
       "['.ipynb_checkpoints',\n",
       " '01_Print Komutu.ipynb',\n",
       " '02_Veri Tipleri.ipynb',\n",
       " '03_Donguler ve Sorgular.ipynb',\n",
       " '04_Quiz Cevapları.ipynb',\n",
       " '05_Fonksiyonlar.ipynb',\n",
       " '06_Quiz2 Cevapları.ipynb',\n",
       " '07_Class(OOP).ipynb',\n",
       " '08_Moduleler.ipynb',\n",
       " '09_Regular Expression.ipynb',\n",
       " '10_ Math ve Random.ipynb',\n",
       " '11_Counter.ipynb',\n",
       " '12_DateTime.ipynb',\n",
       " \"13_Decorator'ler.ipynb\",\n",
       " '14_GUI.ipynb',\n",
       " 'hatirlatma.txt',\n",
       " 'pizzaSiparis.ipynb',\n",
       " 'Untitled21.ipynb']"
      ]
     },
     "execution_count": 84,
     "metadata": {},
     "output_type": "execute_result"
    }
   ],
   "source": [
    "os.listdir()"
   ]
  },
  {
   "cell_type": "code",
   "execution_count": 85,
   "id": "11bf33eb-b574-48fe-8a12-04bdbdfc1879",
   "metadata": {},
   "outputs": [],
   "source": [
    "yeniDosya = os.open(\"yeniDosya.txt\", os.O_RDWR|os.O_CREAT)\n",
    "os.write(yeniDosya, \"Merhaba dünya!\".encode())\n",
    "os.close(yeniDosya)"
   ]
  },
  {
   "cell_type": "code",
   "execution_count": 86,
   "id": "e303c4c4-f98a-4b39-9645-c9d3709f9440",
   "metadata": {},
   "outputs": [
    {
     "name": "stdout",
     "output_type": "stream",
     "text": [
      "Merhaba dünya!\n"
     ]
    }
   ],
   "source": [
    "yeniDosya = os.open(\"yeniDosya.txt\", os.O_RDONLY)\n",
    "uzunluk = os.stat(yeniDosya).st_size\n",
    "icerik = os.read(yeniDosya,uzunluk)\n",
    "print(icerik.decode())\n",
    "#print(istatistik)\n",
    "os.close(yeniDosya)"
   ]
  },
  {
   "cell_type": "code",
   "execution_count": 87,
   "id": "5e33d906-38f9-4c73-b088-5cb9fd832d1a",
   "metadata": {},
   "outputs": [],
   "source": [
    "os.unlink(\"yeniDosya.txt\")"
   ]
  },
  {
   "cell_type": "code",
   "execution_count": 88,
   "id": "38fe30f1-1c04-43bd-8d4c-f5ff01ceed84",
   "metadata": {},
   "outputs": [],
   "source": [
    "os.mkdir(\"denemeYeni\")"
   ]
  },
  {
   "cell_type": "code",
   "execution_count": 89,
   "id": "c751dadc-32e0-45d9-9b1b-6101eb164f6c",
   "metadata": {},
   "outputs": [
    {
     "data": {
      "text/plain": [
       "['.ipynb_checkpoints',\n",
       " '01_Print Komutu.ipynb',\n",
       " '02_Veri Tipleri.ipynb',\n",
       " '03_Donguler ve Sorgular.ipynb',\n",
       " '04_Quiz Cevapları.ipynb',\n",
       " '05_Fonksiyonlar.ipynb',\n",
       " '06_Quiz2 Cevapları.ipynb',\n",
       " '07_Class(OOP).ipynb',\n",
       " '08_Moduleler.ipynb',\n",
       " '09_Regular Expression.ipynb',\n",
       " '10_ Math ve Random.ipynb',\n",
       " '11_Counter.ipynb',\n",
       " '12_DateTime.ipynb',\n",
       " \"13_Decorator'ler.ipynb\",\n",
       " '14_GUI.ipynb',\n",
       " 'denemeYeni',\n",
       " 'hatirlatma.txt',\n",
       " 'pizzaSiparis.ipynb',\n",
       " 'Untitled21.ipynb']"
      ]
     },
     "execution_count": 89,
     "metadata": {},
     "output_type": "execute_result"
    }
   ],
   "source": [
    "os.listdir()"
   ]
  },
  {
   "cell_type": "code",
   "execution_count": 90,
   "id": "fa47e45b-252b-4b98-b8ea-2eead4c2797c",
   "metadata": {},
   "outputs": [],
   "source": [
    "os.rename(\"denemeYeni\",\"denemeEski\")"
   ]
  },
  {
   "cell_type": "code",
   "execution_count": 91,
   "id": "7105e915-e436-4fc8-9199-378493dc4dde",
   "metadata": {},
   "outputs": [
    {
     "data": {
      "text/plain": [
       "['.ipynb_checkpoints',\n",
       " '01_Print Komutu.ipynb',\n",
       " '02_Veri Tipleri.ipynb',\n",
       " '03_Donguler ve Sorgular.ipynb',\n",
       " '04_Quiz Cevapları.ipynb',\n",
       " '05_Fonksiyonlar.ipynb',\n",
       " '06_Quiz2 Cevapları.ipynb',\n",
       " '07_Class(OOP).ipynb',\n",
       " '08_Moduleler.ipynb',\n",
       " '09_Regular Expression.ipynb',\n",
       " '10_ Math ve Random.ipynb',\n",
       " '11_Counter.ipynb',\n",
       " '12_DateTime.ipynb',\n",
       " \"13_Decorator'ler.ipynb\",\n",
       " '14_GUI.ipynb',\n",
       " 'denemeEski',\n",
       " 'hatirlatma.txt',\n",
       " 'pizzaSiparis.ipynb',\n",
       " 'Untitled21.ipynb']"
      ]
     },
     "execution_count": 91,
     "metadata": {},
     "output_type": "execute_result"
    }
   ],
   "source": [
    "os.listdir()"
   ]
  }
 ],
 "metadata": {
  "kernelspec": {
   "display_name": "Python 3 (ipykernel)",
   "language": "python",
   "name": "python3"
  },
  "language_info": {
   "codemirror_mode": {
    "name": "ipython",
    "version": 3
   },
   "file_extension": ".py",
   "mimetype": "text/x-python",
   "name": "python",
   "nbconvert_exporter": "python",
   "pygments_lexer": "ipython3",
   "version": "3.9.6"
  }
 },
 "nbformat": 4,
 "nbformat_minor": 5
}
