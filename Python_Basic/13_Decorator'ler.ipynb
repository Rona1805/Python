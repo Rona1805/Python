{
 "cells": [
  {
   "cell_type": "markdown",
   "id": "3c48693e-9df9-4522-bf05-ee59763c765b",
   "metadata": {},
   "source": [
    "#### **Decorator Prensibi**"
   ]
  },
  {
   "cell_type": "raw",
   "id": "08a8252d-3b81-40f7-baac-c08457c58b5b",
   "metadata": {},
   "source": [
    "@decorator\n",
    "def ..."
   ]
  },
  {
   "cell_type": "markdown",
   "id": "98e78caf-3d4b-44c1-917a-1a338d9993a4",
   "metadata": {},
   "source": [
    "#### **Değişken olarak fonksiyon**"
   ]
  },
  {
   "cell_type": "code",
   "execution_count": 19,
   "id": "addcb3a0-bace-40f0-a9db-026e85911f1a",
   "metadata": {},
   "outputs": [],
   "source": [
    "def deneme():\n",
    "    print(\"abc\")"
   ]
  },
  {
   "cell_type": "code",
   "execution_count": 20,
   "id": "18402d5e-f47c-43f2-9ab1-bd5859f8370d",
   "metadata": {},
   "outputs": [
    {
     "name": "stdout",
     "output_type": "stream",
     "text": [
      "abc\n"
     ]
    }
   ],
   "source": [
    "deneme()"
   ]
  },
  {
   "cell_type": "code",
   "execution_count": 21,
   "id": "66ba5d3c-cb86-4f23-8e70-93c7a96a7f3a",
   "metadata": {},
   "outputs": [],
   "source": [
    "f = deneme"
   ]
  },
  {
   "cell_type": "code",
   "execution_count": 22,
   "id": "7f575b8e-d040-4f8f-891f-11f773e29968",
   "metadata": {},
   "outputs": [
    {
     "name": "stdout",
     "output_type": "stream",
     "text": [
      "abc\n"
     ]
    }
   ],
   "source": [
    "f()"
   ]
  },
  {
   "cell_type": "markdown",
   "id": "ab3affe6-85f9-4a0a-92e2-84e67149df3a",
   "metadata": {},
   "source": [
    "#### **Fonksiyon içinde fonksiyon**"
   ]
  },
  {
   "cell_type": "code",
   "execution_count": 23,
   "id": "e8d8900c-9da4-40bc-891b-e26a7d3887dc",
   "metadata": {},
   "outputs": [],
   "source": [
    "def deneme():\n",
    "    print(\"Deneme fonksiyonu çalışıyor.\")\n",
    "    def test():\n",
    "        return \"Test fonksiyonu çalışıyor.\"\n",
    "    print(test())"
   ]
  },
  {
   "cell_type": "code",
   "execution_count": 24,
   "id": "583e03f6-4a39-4142-9372-2afbdd5cff7e",
   "metadata": {},
   "outputs": [
    {
     "name": "stdout",
     "output_type": "stream",
     "text": [
      "Deneme fonksiyonu çalışıyor.\n",
      "Test fonksiyonu çalışıyor.\n"
     ]
    }
   ],
   "source": [
    "deneme()"
   ]
  },
  {
   "cell_type": "code",
   "execution_count": 25,
   "id": "3fe3837d-b769-4dc0-9ab2-283323f456c7",
   "metadata": {},
   "outputs": [],
   "source": [
    "def deneme():\n",
    "    print(\"Deneme fonksiyonu çalışıyor.\")\n",
    "    def test():\n",
    "        return \"Test fonksiyonu çalışıyor.\"\n",
    "    return test"
   ]
  },
  {
   "cell_type": "code",
   "execution_count": 26,
   "id": "84b74e2d-3b29-424e-ac15-e4e04e32e33b",
   "metadata": {},
   "outputs": [
    {
     "name": "stdout",
     "output_type": "stream",
     "text": [
      "Deneme fonksiyonu çalışıyor.\n",
      "Test fonksiyonu çalışıyor.\n"
     ]
    }
   ],
   "source": [
    "f = deneme()\n",
    "print(f())"
   ]
  },
  {
   "cell_type": "markdown",
   "id": "beeb53dd-e6cb-4682-b0db-af4f19b066a7",
   "metadata": {},
   "source": [
    "#### **Decorator**"
   ]
  },
  {
   "cell_type": "code",
   "execution_count": 27,
   "id": "7228bb4f-3307-4d5b-bc55-5ab9d235c047",
   "metadata": {},
   "outputs": [],
   "source": [
    "def deneme():\n",
    "    return \"Deneme fonksiyonu çalışıyor.\""
   ]
  },
  {
   "cell_type": "code",
   "execution_count": 28,
   "id": "ce445dcb-ec0e-4777-9896-36bfcfa7ff95",
   "metadata": {},
   "outputs": [],
   "source": [
    "def ikinci(f):\n",
    "    print(\"İkinci fonksiyon çalışıyor.\")\n",
    "    print(f())"
   ]
  },
  {
   "cell_type": "code",
   "execution_count": 29,
   "id": "03922839-d29b-4b08-9705-3badf4ccb059",
   "metadata": {},
   "outputs": [
    {
     "name": "stdout",
     "output_type": "stream",
     "text": [
      "İkinci fonksiyon çalışıyor.\n",
      "Deneme fonksiyonu çalışıyor.\n"
     ]
    }
   ],
   "source": [
    "ikinci(deneme)"
   ]
  },
  {
   "cell_type": "code",
   "execution_count": 30,
   "id": "9b2838be-b889-498d-a3bb-ed599d3b90c7",
   "metadata": {},
   "outputs": [],
   "source": [
    "def deco(f):\n",
    "    def wrapper():\n",
    "        print(\"Başlangıç\")\n",
    "        f()\n",
    "        print(\"Bitiş\")\n",
    "    return wrapper"
   ]
  },
  {
   "cell_type": "code",
   "execution_count": 31,
   "id": "81849d18-ca47-4ffb-9d1b-a21663c7d4f8",
   "metadata": {},
   "outputs": [],
   "source": [
    "def yazdir():\n",
    "    print(\"Yazdır\")"
   ]
  },
  {
   "cell_type": "code",
   "execution_count": 32,
   "id": "f5edaf0f-ae9d-4f94-8b2d-0e96f901f84d",
   "metadata": {},
   "outputs": [],
   "source": [
    "def yazdir2():\n",
    "    print(\"yazdir2\")"
   ]
  },
  {
   "cell_type": "code",
   "execution_count": 33,
   "id": "332697f2-99bb-4ec2-a508-6616784320b0",
   "metadata": {},
   "outputs": [],
   "source": [
    "yazdir = deco(yazdir)"
   ]
  },
  {
   "cell_type": "code",
   "execution_count": 18,
   "id": "14cfbef7-8f0c-44b1-a239-8a4a4224f160",
   "metadata": {},
   "outputs": [],
   "source": [
    "yazdir2 = deco(yazdir2)"
   ]
  },
  {
   "cell_type": "code",
   "execution_count": null,
   "id": "8d302b75-01ed-41c7-ace5-7d2d1f0886b1",
   "metadata": {},
   "outputs": [
    {
     "name": "stdout",
     "output_type": "stream",
     "text": [
      "Başlangıç\n",
      "Başlangıç\n",
      "Yazdır\n",
      "Bitiş\n",
      "Bitiş\n"
     ]
    }
   ],
   "source": [
    "yazdir()"
   ]
  },
  {
   "cell_type": "code",
   "execution_count": null,
   "id": "cd7d0e95-8ee5-4d89-a0da-0e5f5c6f1563",
   "metadata": {},
   "outputs": [
    {
     "name": "stdout",
     "output_type": "stream",
     "text": [
      "Başlangıç\n",
      "yazdir2\n",
      "Bitiş\n"
     ]
    }
   ],
   "source": [
    "yazdir2()"
   ]
  },
  {
   "cell_type": "code",
   "execution_count": 21,
   "id": "9f51e3aa-861e-4b81-b5ab-ec9f1955673a",
   "metadata": {},
   "outputs": [],
   "source": [
    "@deco\n",
    "def yazdir():\n",
    "    print(\"Yazdır\")"
   ]
  },
  {
   "cell_type": "code",
   "execution_count": 22,
   "id": "89c71b32-5ee9-4c4c-a935-5e10535afeee",
   "metadata": {},
   "outputs": [
    {
     "name": "stdout",
     "output_type": "stream",
     "text": [
      "Başlangıç\n",
      "Yazdır\n",
      "Bitiş\n"
     ]
    }
   ],
   "source": [
    "yazdir()"
   ]
  },
  {
   "cell_type": "markdown",
   "id": "19744927-a518-4a4b-bf33-5046ac9810a6",
   "metadata": {},
   "source": [
    "#### **Argüman alan fonksiyonlarda decorator**"
   ]
  },
  {
   "cell_type": "code",
   "execution_count": 23,
   "id": "235b06f1-5768-49e9-8f7b-7ec9b01b24b9",
   "metadata": {},
   "outputs": [],
   "source": [
    "def deco(f):\n",
    "    def wrapper(*args):\n",
    "        print(\"Başlangıç\")\n",
    "        f(*args)\n",
    "        print(\"Bitiş\")\n",
    "    return wrapper"
   ]
  },
  {
   "cell_type": "code",
   "execution_count": 24,
   "id": "b11aa446-bdeb-4560-972d-34d1760e8c62",
   "metadata": {},
   "outputs": [],
   "source": [
    "@deco\n",
    "def toplama(a, b):\n",
    "    print(a+b)"
   ]
  },
  {
   "cell_type": "code",
   "execution_count": 25,
   "id": "2a940700-6d8e-4c3d-8d92-7a19b0a2c802",
   "metadata": {},
   "outputs": [
    {
     "name": "stdout",
     "output_type": "stream",
     "text": [
      "Başlangıç\n",
      "9\n",
      "Bitiş\n"
     ]
    }
   ],
   "source": [
    "toplama(4,5)"
   ]
  },
  {
   "cell_type": "markdown",
   "id": "70623e98-4934-4b71-bcdd-0ea20bb8f476",
   "metadata": {},
   "source": [
    "#### **Argüman alan decorator**"
   ]
  },
  {
   "cell_type": "code",
   "execution_count": 45,
   "id": "d01aba8b-3ed6-4066-91da-d78429724f3a",
   "metadata": {},
   "outputs": [],
   "source": [
    "def deco(msg1,msg2):\n",
    "    def araKatman(f):\n",
    "        def wrapper(*args):\n",
    "            print(msg1)\n",
    "            f(*args)\n",
    "            print(msg2)\n",
    "        return wrapper\n",
    "    return araKatman"
   ]
  },
  {
   "cell_type": "code",
   "execution_count": 46,
   "id": "adde4384-5de9-428b-b3fa-fa1ded8110fb",
   "metadata": {},
   "outputs": [],
   "source": [
    "@deco(\"İlk\", \"Sonuç\")\n",
    "def toplama(a, b):\n",
    "    print(a+b)"
   ]
  },
  {
   "cell_type": "code",
   "execution_count": 28,
   "id": "df8ee560-8d50-49c6-8243-474bb392ca26",
   "metadata": {},
   "outputs": [
    {
     "name": "stdout",
     "output_type": "stream",
     "text": [
      "İlk\n",
      "9\n",
      "Sonuç\n"
     ]
    }
   ],
   "source": [
    "toplama(4,5)"
   ]
  },
  {
   "cell_type": "markdown",
   "id": "e982a5ca-f440-4c61-ae08-0991b11b9841",
   "metadata": {},
   "source": [
    "#### **Süre ölçümleme uygulaması**"
   ]
  },
  {
   "cell_type": "code",
   "execution_count": 29,
   "id": "2b6a0be4-e193-4a48-a829-e6d9256d7d49",
   "metadata": {},
   "outputs": [
    {
     "data": {
      "text/plain": [
       "0.0"
      ]
     },
     "execution_count": 29,
     "metadata": {},
     "output_type": "execute_result"
    }
   ],
   "source": [
    "import time\n",
    "baslangic = time.time()\n",
    "f()\n",
    "bitis = time.time()\n",
    "bitis - baslangic\n"
   ]
  },
  {
   "cell_type": "code",
   "execution_count": 39,
   "id": "80092d3b-2c5d-450a-9701-63fd8c1c3694",
   "metadata": {},
   "outputs": [],
   "source": [
    "def sureOlc(f):\n",
    "    def wrapper(*args):\n",
    "        baslangic = time.time()\n",
    "        print(f\"Başlangıç zamanı:\\t{baslangic}\")\n",
    "        \n",
    "        f(*args)\n",
    "        bitis = time.time()\n",
    "        print(f\"Bitiş zamanı:\\t{bitis}\")\n",
    "        print(f\"Geçen zaman\\t{bitis-baslangic}\")\n",
    "    return wrapper"
   ]
  },
  {
   "cell_type": "code",
   "execution_count": 40,
   "id": "51a1c2e1-2c20-4743-ab44-e6b5862d8496",
   "metadata": {},
   "outputs": [],
   "source": [
    "@sureOlc\n",
    "def faktoriyel(sayi):\n",
    "    toplam = 1\n",
    "   \n",
    "    while sayi > 1:\n",
    "        toplam *= sayi \n",
    "        sayi -=1\n",
    "    print(toplam)\n",
    "        "
   ]
  },
  {
   "cell_type": "code",
   "execution_count": 44,
   "id": "cda67fa6-04b2-44a7-82e2-62afa31b8f8f",
   "metadata": {},
   "outputs": [
    {
     "name": "stdout",
     "output_type": "stream",
     "text": [
      "Başlangıç zamanı:\t1679681182.899687\n",
      "402387260077093773543702433923003985719374864210714632543799910429938512398629020592044208486969404800479988610197196058631666872994808558901323829669944590997424504087073759918823627727188732519779505950995276120874975462497043601418278094646496291056393887437886487337119181045825783647849977012476632889835955735432513185323958463075557409114262417474349347553428646576611667797396668820291207379143853719588249808126867838374559731746136085379534524221586593201928090878297308431392844403281231558611036976801357304216168747609675871348312025478589320767169132448426236131412508780208000261683151027341827977704784635868170164365024153691398281264810213092761244896359928705114964975419909342221566832572080821333186116811553615836546984046708975602900950537616475847728421889679646244945160765353408198901385442487984959953319101723355556602139450399736280750137837615307127761926849034352625200015888535147331611702103968175921510907788019393178114194545257223865541461062892187960223838971476088506276862967146674697562911234082439208160153780889893964518263243671616762179168909779911903754031274622289988005195444414282012187361745992642956581746628302955570299024324153181617210465832036786906117260158783520751516284225540265170483304226143974286933061690897968482590125458327168226458066526769958652682272807075781391858178889652208164348344825993266043367660176999612831860788386150279465955131156552036093988180612138558600301435694527224206344631797460594682573103790084024432438465657245014402821885252470935190620929023136493273497565513958720559654228749774011413346962715422845862377387538230483865688976461927383814900140767310446640259899490222221765904339901886018566526485061799702356193897017860040811889729918311021171229845901641921068884387121855646124960798722908519296819372388642614839657382291123125024186649353143970137428531926649875337218940694281434118520158014123344828015051399694290153483077644569099073152433278288269864602789864321139083506217095002597389863554277196742822248757586765752344220207573630569498825087968928162753848863396909959826280956121450994871701244516461260379029309120889086942028510640182154399457156805941872748998094254742173582401063677404595741785160829230135358081840096996372524230560855903700624271243416909004153690105933983835777939410970027753472000000000000000000000000000000000000000000000000000000000000000000000000000000000000000000000000000000000000000000000000000000000000000000000000000000000000000000000000000000000000000000000000000000000000000000000000000000000000000000000000000000000\n",
      "Bitiş zamanı:\t1679681182.907683\n",
      "Geçen zaman\t0.007995843887329102\n"
     ]
    }
   ],
   "source": [
    "faktoriyel(1000)"
   ]
  }
 ],
 "metadata": {
  "kernelspec": {
   "display_name": "Python 3 (ipykernel)",
   "language": "python",
   "name": "python3"
  },
  "language_info": {
   "codemirror_mode": {
    "name": "ipython",
    "version": 3
   },
   "file_extension": ".py",
   "mimetype": "text/x-python",
   "name": "python",
   "nbconvert_exporter": "python",
   "pygments_lexer": "ipython3",
   "version": "3.9.6"
  }
 },
 "nbformat": 4,
 "nbformat_minor": 5
}
