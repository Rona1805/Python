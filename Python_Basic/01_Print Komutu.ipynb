{
 "cells": [
  {
   "cell_type": "markdown",
   "id": "5896b305-450d-4548-802f-c42c1d8e14e5",
   "metadata": {
    "tags": []
   },
   "source": [
    "#### **print komutu ve kullanımı**"
   ]
  },
  {
   "cell_type": "code",
   "execution_count": 1,
   "id": "159f197a-4fb7-468c-82b8-162ccd968071",
   "metadata": {},
   "outputs": [
    {
     "name": "stdout",
     "output_type": "stream",
     "text": [
      "Merhaba \n",
      "Python çalışıyorum\n",
      "Merhaba Python \tçalışıyorum\n"
     ]
    }
   ],
   "source": [
    "#print(\"Merhaba\")\n",
    "print(\"Merhaba \\nPython çalışıyorum\")\n",
    "print(\"Merhaba Python \\tçalışıyorum\")"
   ]
  },
  {
   "cell_type": "code",
   "execution_count": 2,
   "id": "07a50a3c-db70-43a7-86dc-33c5cafa31fe",
   "metadata": {},
   "outputs": [
    {
     "name": "stdout",
     "output_type": "stream",
     "text": [
      "Benim adım İbrahim\n",
      "Benim adım İbrahim, yaşım 25\n",
      "Benim adım İbrahim, yaşım 25\n",
      "Benim adım İbrahim, yaşım 25\n",
      "Benim adım İbrahim, yaşım 25\n"
     ]
    }
   ],
   "source": [
    "print(\"Benim adım {}\".format(\"İbrahim\"))\n",
    "print(\"Benim adım {}, yaşım {}\".format(\"İbrahim\", 25))\n",
    "print(\"Benim adım {0}, yaşım {1}\".format(\"İbrahim\", 25))\n",
    "print(\"Benim adım {ad}, yaşım {yas}\".format(ad = \"İbrahim\", yas = 25))\n",
    "print(\"Benim adım {ad}, yaşım {yas}\".format(yas = 25, ad = \"İbrahim\"))"
   ]
  },
  {
   "cell_type": "code",
   "execution_count": 3,
   "id": "856b4aa8-1352-4e5d-9033-24d74a462a61",
   "metadata": {},
   "outputs": [
    {
     "name": "stdout",
     "output_type": "stream",
     "text": [
      "Benim adım İbrahim, yaşım 25\n"
     ]
    }
   ],
   "source": [
    "ad = \"İbrahim\"\n",
    "yas = 25\n",
    "print(f\"Benim adım {ad}, yaşım {yas}\")"
   ]
  },
  {
   "cell_type": "code",
   "execution_count": 4,
   "id": "3396f54f-cd06-44d7-8c5e-6101438e83ed",
   "metadata": {},
   "outputs": [
    {
     "name": "stdout",
     "output_type": "stream",
     "text": [
      "Benim adım İbrahim, yaşım 25, boyum 1.85 \n"
     ]
    }
   ],
   "source": [
    "print(\"Benim adım %s, yaşım %d, boyum %.2f \"%(\"İbrahim\",25, 1.85))"
   ]
  },
  {
   "cell_type": "markdown",
   "id": "e7f4a8b3-cdee-40fb-a205-0f7b37ded3ce",
   "metadata": {},
   "source": [
    "#### **Değişkenler**"
   ]
  },
  {
   "cell_type": "markdown",
   "id": "fcce3c6f-2571-47d5-8b47-279a5450f524",
   "metadata": {},
   "source": [
    "Kabul edilmeyen değişken isim atama senaryoları\n",
    "\n",
    "* Sayı ile başlamak\n",
    "* Boşluk içermek\n",
    "* \"*(/ gibi semboller içermek)\n",
    "* rezerve edilmiş isimler kullanmak"
   ]
  },
  {
   "cell_type": "code",
   "execution_count": 5,
   "id": "935b4c28-4637-47e5-aad6-df02134cd7b8",
   "metadata": {},
   "outputs": [
    {
     "name": "stdout",
     "output_type": "stream",
     "text": [
      "10\n"
     ]
    }
   ],
   "source": [
    "sayi = 10\n",
    "print(sayi)"
   ]
  },
  {
   "cell_type": "code",
   "execution_count": 6,
   "id": "4c795284-f8c8-4421-ac0f-c762e1543663",
   "metadata": {},
   "outputs": [
    {
     "name": "stdout",
     "output_type": "stream",
     "text": [
      "11\n"
     ]
    }
   ],
   "source": [
    "sayi = 11\n",
    "print(sayi)"
   ]
  },
  {
   "cell_type": "code",
   "execution_count": 7,
   "id": "834fdcd3-bfba-47bb-9618-77e10c5ba1dd",
   "metadata": {},
   "outputs": [
    {
     "name": "stdout",
     "output_type": "stream",
     "text": [
      "12\n"
     ]
    }
   ],
   "source": [
    "sayi = sayi + 1\n",
    "print(sayi)"
   ]
  },
  {
   "cell_type": "code",
   "execution_count": 8,
   "id": "f9069fad-3fc4-4de6-9e56-fa54047b46d5",
   "metadata": {},
   "outputs": [
    {
     "name": "stdout",
     "output_type": "stream",
     "text": [
      "10\n"
     ]
    }
   ],
   "source": [
    "sayi_ilk = 10\n",
    "print(sayi_ilk)"
   ]
  },
  {
   "cell_type": "code",
   "execution_count": 9,
   "id": "58a86546-739d-4bfc-902c-a43571a27bec",
   "metadata": {},
   "outputs": [
    {
     "ename": "SyntaxError",
     "evalue": "invalid syntax (Temp/ipykernel_12120/4261394191.py, line 1)",
     "output_type": "error",
     "traceback": [
      "\u001b[1;36m  File \u001b[1;32m\"C:\\Users\\ibrah\\AppData\\Local\\Temp/ipykernel_12120/4261394191.py\"\u001b[1;36m, line \u001b[1;32m1\u001b[0m\n\u001b[1;33m    1sayi = 10\u001b[0m\n\u001b[1;37m     ^\u001b[0m\n\u001b[1;31mSyntaxError\u001b[0m\u001b[1;31m:\u001b[0m invalid syntax\n"
     ]
    }
   ],
   "source": [
    "1sayi = 10"
   ]
  },
  {
   "cell_type": "code",
   "execution_count": 10,
   "id": "800f8b95-7fc5-4ca0-a562-4ab71aa1680a",
   "metadata": {},
   "outputs": [
    {
     "ename": "SyntaxError",
     "evalue": "invalid syntax (Temp/ipykernel_12120/3274867368.py, line 1)",
     "output_type": "error",
     "traceback": [
      "\u001b[1;36m  File \u001b[1;32m\"C:\\Users\\ibrah\\AppData\\Local\\Temp/ipykernel_12120/3274867368.py\"\u001b[1;36m, line \u001b[1;32m1\u001b[0m\n\u001b[1;33m    sayi ilk =\u001b[0m\n\u001b[1;37m         ^\u001b[0m\n\u001b[1;31mSyntaxError\u001b[0m\u001b[1;31m:\u001b[0m invalid syntax\n"
     ]
    }
   ],
   "source": [
    "sayi ilk = "
   ]
  },
  {
   "cell_type": "code",
   "execution_count": 11,
   "id": "3ac16031-96fa-43cc-b127-5133e31e1d4e",
   "metadata": {},
   "outputs": [
    {
     "ename": "SyntaxError",
     "evalue": "cannot assign to operator (Temp/ipykernel_12120/368859616.py, line 1)",
     "output_type": "error",
     "traceback": [
      "\u001b[1;36m  File \u001b[1;32m\"C:\\Users\\ibrah\\AppData\\Local\\Temp/ipykernel_12120/368859616.py\"\u001b[1;36m, line \u001b[1;32m1\u001b[0m\n\u001b[1;33m    sayi+ilk =\u001b[0m\n\u001b[1;37m    ^\u001b[0m\n\u001b[1;31mSyntaxError\u001b[0m\u001b[1;31m:\u001b[0m cannot assign to operator\n"
     ]
    }
   ],
   "source": [
    "sayi+ilk = "
   ]
  },
  {
   "cell_type": "code",
   "execution_count": 12,
   "id": "d360c715-f94e-4059-8aa2-31c91952fda4",
   "metadata": {},
   "outputs": [],
   "source": [
    "sayi_ilk = 10\n",
    "_ = 20\n",
    "a = 30"
   ]
  },
  {
   "cell_type": "code",
   "execution_count": 14,
   "id": "95494572-26f9-48e1-89bf-fa168b8d3d14",
   "metadata": {},
   "outputs": [
    {
     "name": "stdout",
     "output_type": "stream",
     "text": [
      "Ellipsis\n"
     ]
    }
   ],
   "source": [
    "#print = \"abc\"\n",
    "print(...)"
   ]
  }
 ],
 "metadata": {
  "kernelspec": {
   "display_name": "Python 3 (ipykernel)",
   "language": "python",
   "name": "python3"
  },
  "language_info": {
   "codemirror_mode": {
    "name": "ipython",
    "version": 3
   },
   "file_extension": ".py",
   "mimetype": "text/x-python",
   "name": "python",
   "nbconvert_exporter": "python",
   "pygments_lexer": "ipython3",
   "version": "3.9.6"
  }
 },
 "nbformat": 4,
 "nbformat_minor": 5
}
